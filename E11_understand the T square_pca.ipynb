{
 "cells": [
  {
   "cell_type": "code",
   "execution_count": 1,
   "id": "bc02f0a0",
   "metadata": {},
   "outputs": [],
   "source": [
    "import pandas as pd\n",
    "import numpy as np\n",
    "import matplotlib.pyplot as plt\n",
    "import seaborn as sns\n",
    "from sklearn.decomposition import PCA\n",
    "%matplotlib inline"
   ]
  },
  {
   "cell_type": "code",
   "execution_count": 2,
   "id": "43afb804",
   "metadata": {},
   "outputs": [],
   "source": [
    "train_normal = pd.read_csv('./data/normal_training.csv')"
   ]
  },
  {
   "cell_type": "code",
   "execution_count": 3,
   "id": "59cf3f98",
   "metadata": {},
   "outputs": [],
   "source": [
    "test_faulty = pd.read_csv('./data/faulty_testing.csv')"
   ]
  },
  {
   "cell_type": "code",
   "execution_count": 4,
   "id": "6ea138ad",
   "metadata": {},
   "outputs": [],
   "source": [
    "df_train = train_normal[(train_normal.simulationRun>=1)&\n",
    "                                 (train_normal.simulationRun<5)].iloc[:,3:]\n",
    "\n",
    "df_test = train_normal[(train_normal.simulationRun>5)&\n",
    "                                (train_normal.simulationRun<10)].iloc[:,3:]"
   ]
  },
  {
   "cell_type": "markdown",
   "id": "49a7cee7",
   "metadata": {},
   "source": [
    "### Train"
   ]
  },
  {
   "cell_type": "code",
   "execution_count": 5,
   "id": "65f46bf4",
   "metadata": {},
   "outputs": [],
   "source": [
    "# the mean and std\n",
    "mu_train = df_train.mean(axis=0)\n",
    "std_train = df_train.std(axis=0)"
   ]
  },
  {
   "cell_type": "code",
   "execution_count": 6,
   "id": "3ad9ecb9",
   "metadata": {},
   "outputs": [],
   "source": [
    "# normalizing training data\n",
    "X = np.array(((df_train - mu_train)/std_train))"
   ]
  },
  {
   "cell_type": "code",
   "execution_count": 7,
   "id": "9d2bff73",
   "metadata": {},
   "outputs": [
    {
     "data": {
      "text/plain": [
       "(2000, 52)"
      ]
     },
     "execution_count": 7,
     "metadata": {},
     "output_type": "execute_result"
    }
   ],
   "source": [
    "X.shape"
   ]
  },
  {
   "cell_type": "code",
   "execution_count": 8,
   "id": "7db73799",
   "metadata": {},
   "outputs": [],
   "source": [
    "pca = PCA(n_components = 30) \n",
    "pcat = pca.fit_transform(X)"
   ]
  },
  {
   "cell_type": "code",
   "execution_count": 9,
   "id": "a6c47531",
   "metadata": {},
   "outputs": [
    {
     "data": {
      "text/plain": [
       "(2000, 30)"
      ]
     },
     "execution_count": 9,
     "metadata": {},
     "output_type": "execute_result"
    }
   ],
   "source": [
    "pcat.shape"
   ]
  },
  {
   "cell_type": "code",
   "execution_count": 10,
   "id": "c26fa193",
   "metadata": {},
   "outputs": [],
   "source": [
    "# eigenvalues\n",
    "L = pca.explained_variance_"
   ]
  },
  {
   "cell_type": "code",
   "execution_count": 11,
   "id": "6987f949",
   "metadata": {},
   "outputs": [
    {
     "data": {
      "text/plain": [
       "(30,)"
      ]
     },
     "execution_count": 11,
     "metadata": {},
     "output_type": "execute_result"
    }
   ],
   "source": [
    "L.shape"
   ]
  },
  {
   "cell_type": "code",
   "execution_count": 12,
   "id": "6fab5a19",
   "metadata": {},
   "outputs": [],
   "source": [
    "# eigenvectors\n",
    "P = -(pca.components_.T)"
   ]
  },
  {
   "cell_type": "code",
   "execution_count": 13,
   "id": "05ed2989",
   "metadata": {},
   "outputs": [
    {
     "data": {
      "text/plain": [
       "(52, 30)"
      ]
     },
     "execution_count": 13,
     "metadata": {},
     "output_type": "execute_result"
    }
   ],
   "source": [
    "P.shape"
   ]
  },
  {
   "cell_type": "code",
   "execution_count": 14,
   "id": "9b750ac1",
   "metadata": {},
   "outputs": [],
   "source": [
    "conf_T2 = 0.99"
   ]
  },
  {
   "cell_type": "code",
   "execution_count": 15,
   "id": "edefce0c",
   "metadata": {},
   "outputs": [],
   "source": [
    "# limit of the T^2 statistic\n",
    "from scipy.stats import f\n",
    "F = f.ppf(conf_T2, 30, X.shape[0]-30)"
   ]
  },
  {
   "cell_type": "code",
   "execution_count": 16,
   "id": "9ea45a1b",
   "metadata": {},
   "outputs": [],
   "source": [
    "T2_lim = ((30*(X.shape[0]**2-1))/(X.shape[0]*(X.shape[0]-30)))*F"
   ]
  },
  {
   "cell_type": "markdown",
   "id": "3ce45b1f",
   "metadata": {},
   "source": [
    "### Test"
   ]
  },
  {
   "cell_type": "code",
   "execution_count": 17,
   "id": "488c83ae",
   "metadata": {},
   "outputs": [],
   "source": [
    "IDV = 1\n",
    "df_test = test_faulty[(test_faulty.faultNumber==IDV) & \n",
    "                               (test_faulty.simulationRun==1)].iloc[:,3:]"
   ]
  },
  {
   "cell_type": "code",
   "execution_count": 18,
   "id": "93d70d2a",
   "metadata": {},
   "outputs": [],
   "source": [
    "Xt = np.array((df_test - mu_train)/std_train)"
   ]
  },
  {
   "cell_type": "code",
   "execution_count": 19,
   "id": "33e4efa6",
   "metadata": {},
   "outputs": [
    {
     "data": {
      "text/plain": [
       "(960, 52)"
      ]
     },
     "execution_count": 19,
     "metadata": {},
     "output_type": "execute_result"
    }
   ],
   "source": [
    "Xt.shape"
   ]
  },
  {
   "cell_type": "code",
   "execution_count": 20,
   "id": "e185691a",
   "metadata": {},
   "outputs": [
    {
     "data": {
      "text/plain": [
       "array([[-1.53978611e-01,  1.29465955e-01,  2.61852697e-01, ...,\n",
       "         7.81167187e-02, -1.08431991e-01, -3.28164026e-03],\n",
       "       [ 2.17065504e-02, -5.34921036e-02,  3.49511112e-01, ...,\n",
       "         1.09921796e-01,  1.25702213e-01, -4.63941299e-02],\n",
       "       [ 1.42669943e-01,  7.17529283e-03, -2.93703184e-02, ...,\n",
       "        -9.86086909e-02, -4.66941543e-01,  3.74569511e-01],\n",
       "       ...,\n",
       "       [-1.48038512e-01, -3.34824103e-01, -2.93763008e-02, ...,\n",
       "        -9.58489756e-02,  7.41743781e-02, -3.70198785e-02],\n",
       "       [ 5.46128898e-02, -1.27816766e-01,  4.11518118e-01, ...,\n",
       "         2.79922471e-02, -1.27731718e-01, -4.98397042e-02],\n",
       "       [ 7.94874362e-03,  1.85934228e-02,  5.41205692e-02, ...,\n",
       "        -6.47605390e-05,  2.60086376e-02, -9.76170096e-03]])"
      ]
     },
     "execution_count": 20,
     "metadata": {},
     "output_type": "execute_result"
    }
   ],
   "source": [
    "P[:,:30]"
   ]
  },
  {
   "cell_type": "code",
   "execution_count": 21,
   "id": "2e371bd4",
   "metadata": {},
   "outputs": [
    {
     "data": {
      "text/plain": [
       "(52, 30)"
      ]
     },
     "execution_count": 21,
     "metadata": {},
     "output_type": "execute_result"
    }
   ],
   "source": [
    "P[:,:30].shape"
   ]
  },
  {
   "cell_type": "code",
   "execution_count": 22,
   "id": "8ddff89f",
   "metadata": {},
   "outputs": [],
   "source": [
    "T = Xt@P[:,:30]"
   ]
  },
  {
   "cell_type": "code",
   "execution_count": 23,
   "id": "2b04ff69",
   "metadata": {},
   "outputs": [
    {
     "data": {
      "text/plain": [
       "(960, 30)"
      ]
     },
     "execution_count": 23,
     "metadata": {},
     "output_type": "execute_result"
    }
   ],
   "source": [
    "T.shape"
   ]
  },
  {
   "cell_type": "code",
   "execution_count": 24,
   "id": "eb374995",
   "metadata": {},
   "outputs": [],
   "source": [
    "T2 = np.array([T[i,:]@np.linalg.inv(np.diag(L[:52]))@T[i,:].T for i in range (Xt.shape[0])])"
   ]
  },
  {
   "cell_type": "code",
   "execution_count": 25,
   "id": "b3272271",
   "metadata": {},
   "outputs": [
    {
     "data": {
      "text/plain": [
       "(960,)"
      ]
     },
     "execution_count": 25,
     "metadata": {},
     "output_type": "execute_result"
    }
   ],
   "source": [
    "T2.shape"
   ]
  },
  {
   "cell_type": "code",
   "execution_count": 26,
   "id": "612b1787",
   "metadata": {},
   "outputs": [
    {
     "data": {
      "image/png": "[encoded data removed]",
      "text/plain": [
       "<Figure size 432x288 with 1 Axes>"
      ]
     },
     "metadata": {
      "needs_background": "light"
     },
     "output_type": "display_data"
    }
   ],
   "source": [
    "plt.semilogy(T2,'.')\n",
    "plt.axhline(T2_lim,ls='--',c='r');"
   ]
  },
  {
   "cell_type": "code",
   "execution_count": 27,
   "id": "d8baaea2",
   "metadata": {},
   "outputs": [
    {
     "name": "stdout",
     "output_type": "stream",
     "text": [
      "T2: 0.8291666666666667\n"
     ]
    }
   ],
   "source": [
    "print(f'T2: {(T2>T2_lim).sum()/T2.shape[0]}')"
   ]
  }
 ],
 "metadata": {
  "kernelspec": {
   "display_name": "Python 3 (ipykernel)",
   "language": "python",
   "name": "python3"
  },
  "language_info": {
   "codemirror_mode": {
    "name": "ipython",
    "version": 3
   },
   "file_extension": ".py",
   "mimetype": "text/x-python",
   "name": "python",
   "nbconvert_exporter": "python",
   "pygments_lexer": "ipython3",
   "version": "3.9.6"
  }
 },
 "nbformat": 4,
 "nbformat_minor": 5
}
