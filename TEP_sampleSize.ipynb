{
 "cells": [
  {
   "cell_type": "code",
   "execution_count": 1,
   "id": "9f39ed51",
   "metadata": {},
   "outputs": [],
   "source": [
    "import pandas as pd"
   ]
  },
  {
   "cell_type": "code",
   "execution_count": 2,
   "id": "4ba090ea",
   "metadata": {},
   "outputs": [],
   "source": [
    "dt = pd.read_csv('TEP_sampleSize.csv')"
   ]
  },
  {
   "cell_type": "code",
   "execution_count": 3,
   "id": "ed02c732",
   "metadata": {},
   "outputs": [],
   "source": [
    "dt = dt.iloc[:, 0:3]"
   ]
  },
  {
   "cell_type": "code",
   "execution_count": 4,
   "id": "fd2a649f",
   "metadata": {},
   "outputs": [
    {
     "data": {
      "text/html": [
       "<div>\n",
       "<style scoped>\n",
       "    .dataframe tbody tr th:only-of-type {\n",
       "        vertical-align: middle;\n",
       "    }\n",
       "\n",
       "    .dataframe tbody tr th {\n",
       "        vertical-align: top;\n",
       "    }\n",
       "\n",
       "    .dataframe thead th {\n",
       "        text-align: right;\n",
       "    }\n",
       "</style>\n",
       "<table border=\"1\" class=\"dataframe\">\n",
       "  <thead>\n",
       "    <tr style=\"text-align: right;\">\n",
       "      <th></th>\n",
       "      <th>Unnamed: 0</th>\n",
       "      <th>Unnamed: 1</th>\n",
       "      <th>Unnamed: 2</th>\n",
       "    </tr>\n",
       "  </thead>\n",
       "  <tbody>\n",
       "    <tr>\n",
       "      <th>0</th>\n",
       "      <td>NaN</td>\n",
       "      <td>Training Set</td>\n",
       "      <td>Test Set</td>\n",
       "    </tr>\n",
       "    <tr>\n",
       "      <th>1</th>\n",
       "      <td>Normal Condition</td>\n",
       "      <td>500 simulations * 500 samples = 250000</td>\n",
       "      <td>500 simulations * 960 samples = 480000</td>\n",
       "    </tr>\n",
       "    <tr>\n",
       "      <th>2</th>\n",
       "      <td>Faulty Condition</td>\n",
       "      <td>500 simulations * 500 samples * 20 faults = 50...</td>\n",
       "      <td>500 simulations * 960 samples * 20 faults = 96...</td>\n",
       "    </tr>\n",
       "    <tr>\n",
       "      <th>3</th>\n",
       "      <td>Sample Size of Each Simulation</td>\n",
       "      <td>500 samples</td>\n",
       "      <td>960 samples</td>\n",
       "    </tr>\n",
       "    <tr>\n",
       "      <th>4</th>\n",
       "      <td>NaN</td>\n",
       "      <td>NaN</td>\n",
       "      <td>NaN</td>\n",
       "    </tr>\n",
       "  </tbody>\n",
       "</table>\n",
       "</div>"
      ],
      "text/plain": [
       "                       Unnamed: 0  \\\n",
       "0                             NaN   \n",
       "1                Normal Condition   \n",
       "2                Faulty Condition   \n",
       "3  Sample Size of Each Simulation   \n",
       "4                             NaN   \n",
       "\n",
       "                                          Unnamed: 1  \\\n",
       "0                                       Training Set   \n",
       "1             500 simulations * 500 samples = 250000   \n",
       "2  500 simulations * 500 samples * 20 faults = 50...   \n",
       "3                                        500 samples   \n",
       "4                                                NaN   \n",
       "\n",
       "                                          Unnamed: 2  \n",
       "0                                           Test Set  \n",
       "1             500 simulations * 960 samples = 480000  \n",
       "2  500 simulations * 960 samples * 20 faults = 96...  \n",
       "3                                        960 samples  \n",
       "4                                                NaN  "
      ]
     },
     "execution_count": 4,
     "metadata": {},
     "output_type": "execute_result"
    }
   ],
   "source": [
    "dt.head(5)"
   ]
  },
  {
   "cell_type": "code",
   "execution_count": null,
   "id": "318fb178",
   "metadata": {},
   "outputs": [],
   "source": []
  }
 ],
 "metadata": {
  "kernelspec": {
   "display_name": "Python 3 (ipykernel)",
   "language": "python",
   "name": "python3"
  },
  "language_info": {
   "codemirror_mode": {
    "name": "ipython",
    "version": 3
   },
   "file_extension": ".py",
   "mimetype": "text/x-python",
   "name": "python",
   "nbconvert_exporter": "python",
   "pygments_lexer": "ipython3",
   "version": "3.9.6"
  }
 },
 "nbformat": 4,
 "nbformat_minor": 5
}
