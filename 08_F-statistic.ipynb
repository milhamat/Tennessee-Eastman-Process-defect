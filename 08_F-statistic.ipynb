{
 "cells": [
  {
   "cell_type": "code",
   "execution_count": 1,
   "id": "5bab5793",
   "metadata": {},
   "outputs": [],
   "source": [
    "import pyreadr\n",
    "import pandas as pd\n",
    "import matplotlib.pyplot as plt\n",
    "\n",
    "%matplotlib inline"
   ]
  },
  {
   "cell_type": "code",
   "execution_count": 2,
   "id": "28cd23d0",
   "metadata": {},
   "outputs": [],
   "source": [
    "path = './data/'\n",
    "\n",
    "train_normal_path = 'TEP_FaultFree_Training.RData'\n",
    "train_faulty_path = 'TEP_Faulty_Training.RData'\n",
    "\n",
    "test_normal_path = 'TEP_FaultFree_Testing.RData'\n",
    "test_faulty_path = 'TEP_Faulty_Testing.RData'\n",
    "\n",
    "train_normal_complete = pyreadr.read_r(path + train_normal_path)['fault_free_training']\n",
    "train_faulty_complete = pyreadr.read_r(path + train_faulty_path)['faulty_training']\n",
    "\n",
    "test_normal_complete = pyreadr.read_r(path + test_normal_path)['fault_free_testing']\n",
    "test_faulty_complete = pyreadr.read_r(path + test_faulty_path)['faulty_testing']"
   ]
  },
  {
   "cell_type": "code",
   "execution_count": 3,
   "id": "4d79864d",
   "metadata": {},
   "outputs": [],
   "source": [
    "data_normal = train_normal_complete[train_normal_complete.simulationRun==1].iloc[:,3:]"
   ]
  },
  {
   "cell_type": "code",
   "execution_count": 4,
   "id": "ee4f3985",
   "metadata": {},
   "outputs": [
    {
     "data": {
      "text/plain": [
       "(500, 52)"
      ]
     },
     "execution_count": 4,
     "metadata": {},
     "output_type": "execute_result"
    }
   ],
   "source": [
    "data_normal.shape"
   ]
  },
  {
   "cell_type": "code",
   "execution_count": 8,
   "id": "f7942413",
   "metadata": {},
   "outputs": [],
   "source": [
    "# data_normal.info()"
   ]
  },
  {
   "cell_type": "code",
   "execution_count": 11,
   "id": "85c98827",
   "metadata": {},
   "outputs": [
    {
     "data": {
      "text/html": [
       "<div>\n",
       "<style scoped>\n",
       "    .dataframe tbody tr th:only-of-type {\n",
       "        vertical-align: middle;\n",
       "    }\n",
       "\n",
       "    .dataframe tbody tr th {\n",
       "        vertical-align: top;\n",
       "    }\n",
       "\n",
       "    .dataframe thead th {\n",
       "        text-align: right;\n",
       "    }\n",
       "</style>\n",
       "<table border=\"1\" class=\"dataframe\">\n",
       "  <thead>\n",
       "    <tr style=\"text-align: right;\">\n",
       "      <th></th>\n",
       "      <th>xmeas_1</th>\n",
       "      <th>xmeas_2</th>\n",
       "      <th>xmeas_3</th>\n",
       "      <th>xmeas_4</th>\n",
       "      <th>xmeas_5</th>\n",
       "      <th>xmeas_6</th>\n",
       "      <th>xmeas_7</th>\n",
       "      <th>xmeas_8</th>\n",
       "      <th>xmeas_9</th>\n",
       "      <th>xmeas_10</th>\n",
       "      <th>...</th>\n",
       "      <th>xmv_2</th>\n",
       "      <th>xmv_3</th>\n",
       "      <th>xmv_4</th>\n",
       "      <th>xmv_5</th>\n",
       "      <th>xmv_6</th>\n",
       "      <th>xmv_7</th>\n",
       "      <th>xmv_8</th>\n",
       "      <th>xmv_9</th>\n",
       "      <th>xmv_10</th>\n",
       "      <th>xmv_11</th>\n",
       "    </tr>\n",
       "  </thead>\n",
       "  <tbody>\n",
       "    <tr>\n",
       "      <th>0</th>\n",
       "      <td>0.25038</td>\n",
       "      <td>3674.0</td>\n",
       "      <td>4529.0</td>\n",
       "      <td>9.2320</td>\n",
       "      <td>26.889</td>\n",
       "      <td>42.402</td>\n",
       "      <td>2704.3</td>\n",
       "      <td>74.863</td>\n",
       "      <td>120.41</td>\n",
       "      <td>0.33818</td>\n",
       "      <td>...</td>\n",
       "      <td>53.744</td>\n",
       "      <td>24.657</td>\n",
       "      <td>62.544</td>\n",
       "      <td>22.137</td>\n",
       "      <td>39.935</td>\n",
       "      <td>42.323</td>\n",
       "      <td>47.757</td>\n",
       "      <td>47.510</td>\n",
       "      <td>41.258</td>\n",
       "      <td>18.447</td>\n",
       "    </tr>\n",
       "    <tr>\n",
       "      <th>1</th>\n",
       "      <td>0.25109</td>\n",
       "      <td>3659.4</td>\n",
       "      <td>4556.6</td>\n",
       "      <td>9.4264</td>\n",
       "      <td>26.721</td>\n",
       "      <td>42.576</td>\n",
       "      <td>2705.0</td>\n",
       "      <td>75.000</td>\n",
       "      <td>120.41</td>\n",
       "      <td>0.33620</td>\n",
       "      <td>...</td>\n",
       "      <td>53.414</td>\n",
       "      <td>24.588</td>\n",
       "      <td>59.259</td>\n",
       "      <td>22.084</td>\n",
       "      <td>40.176</td>\n",
       "      <td>38.554</td>\n",
       "      <td>43.692</td>\n",
       "      <td>47.427</td>\n",
       "      <td>41.359</td>\n",
       "      <td>17.194</td>\n",
       "    </tr>\n",
       "    <tr>\n",
       "      <th>2</th>\n",
       "      <td>0.25038</td>\n",
       "      <td>3660.3</td>\n",
       "      <td>4477.8</td>\n",
       "      <td>9.4426</td>\n",
       "      <td>26.875</td>\n",
       "      <td>42.070</td>\n",
       "      <td>2706.2</td>\n",
       "      <td>74.771</td>\n",
       "      <td>120.42</td>\n",
       "      <td>0.33563</td>\n",
       "      <td>...</td>\n",
       "      <td>54.357</td>\n",
       "      <td>24.666</td>\n",
       "      <td>61.275</td>\n",
       "      <td>22.380</td>\n",
       "      <td>40.244</td>\n",
       "      <td>38.990</td>\n",
       "      <td>46.699</td>\n",
       "      <td>47.468</td>\n",
       "      <td>41.199</td>\n",
       "      <td>20.530</td>\n",
       "    </tr>\n",
       "    <tr>\n",
       "      <th>3</th>\n",
       "      <td>0.24977</td>\n",
       "      <td>3661.3</td>\n",
       "      <td>4512.1</td>\n",
       "      <td>9.4776</td>\n",
       "      <td>26.758</td>\n",
       "      <td>42.063</td>\n",
       "      <td>2707.2</td>\n",
       "      <td>75.224</td>\n",
       "      <td>120.39</td>\n",
       "      <td>0.33553</td>\n",
       "      <td>...</td>\n",
       "      <td>53.946</td>\n",
       "      <td>24.725</td>\n",
       "      <td>59.856</td>\n",
       "      <td>22.277</td>\n",
       "      <td>40.257</td>\n",
       "      <td>38.072</td>\n",
       "      <td>47.541</td>\n",
       "      <td>47.658</td>\n",
       "      <td>41.643</td>\n",
       "      <td>18.089</td>\n",
       "    </tr>\n",
       "    <tr>\n",
       "      <th>4</th>\n",
       "      <td>0.29405</td>\n",
       "      <td>3679.0</td>\n",
       "      <td>4497.0</td>\n",
       "      <td>9.3381</td>\n",
       "      <td>26.889</td>\n",
       "      <td>42.650</td>\n",
       "      <td>2705.1</td>\n",
       "      <td>75.388</td>\n",
       "      <td>120.39</td>\n",
       "      <td>0.32632</td>\n",
       "      <td>...</td>\n",
       "      <td>53.658</td>\n",
       "      <td>28.797</td>\n",
       "      <td>60.717</td>\n",
       "      <td>21.947</td>\n",
       "      <td>39.144</td>\n",
       "      <td>41.955</td>\n",
       "      <td>47.645</td>\n",
       "      <td>47.346</td>\n",
       "      <td>41.507</td>\n",
       "      <td>18.461</td>\n",
       "    </tr>\n",
       "  </tbody>\n",
       "</table>\n",
       "<p>5 rows × 52 columns</p>\n",
       "</div>"
      ],
      "text/plain": [
       "   xmeas_1  xmeas_2  xmeas_3  xmeas_4  xmeas_5  xmeas_6  xmeas_7  xmeas_8  \\\n",
       "0  0.25038   3674.0   4529.0   9.2320   26.889   42.402   2704.3   74.863   \n",
       "1  0.25109   3659.4   4556.6   9.4264   26.721   42.576   2705.0   75.000   \n",
       "2  0.25038   3660.3   4477.8   9.4426   26.875   42.070   2706.2   74.771   \n",
       "3  0.24977   3661.3   4512.1   9.4776   26.758   42.063   2707.2   75.224   \n",
       "4  0.29405   3679.0   4497.0   9.3381   26.889   42.650   2705.1   75.388   \n",
       "\n",
       "   xmeas_9  xmeas_10  ...   xmv_2   xmv_3   xmv_4   xmv_5   xmv_6   xmv_7  \\\n",
       "0   120.41   0.33818  ...  53.744  24.657  62.544  22.137  39.935  42.323   \n",
       "1   120.41   0.33620  ...  53.414  24.588  59.259  22.084  40.176  38.554   \n",
       "2   120.42   0.33563  ...  54.357  24.666  61.275  22.380  40.244  38.990   \n",
       "3   120.39   0.33553  ...  53.946  24.725  59.856  22.277  40.257  38.072   \n",
       "4   120.39   0.32632  ...  53.658  28.797  60.717  21.947  39.144  41.955   \n",
       "\n",
       "    xmv_8   xmv_9  xmv_10  xmv_11  \n",
       "0  47.757  47.510  41.258  18.447  \n",
       "1  43.692  47.427  41.359  17.194  \n",
       "2  46.699  47.468  41.199  20.530  \n",
       "3  47.541  47.658  41.643  18.089  \n",
       "4  47.645  47.346  41.507  18.461  \n",
       "\n",
       "[5 rows x 52 columns]"
      ]
     },
     "execution_count": 11,
     "metadata": {},
     "output_type": "execute_result"
    }
   ],
   "source": [
    "data_normal.head()"
   ]
  },
  {
   "cell_type": "code",
   "execution_count": 16,
   "id": "7ad0e179",
   "metadata": {},
   "outputs": [],
   "source": [
    "# data_normal.loc[0]"
   ]
  },
  {
   "cell_type": "code",
   "execution_count": 18,
   "id": "fa7c1ea8",
   "metadata": {},
   "outputs": [
    {
     "data": {
      "text/plain": [
       "Index(['xmeas_1', 'xmeas_2', 'xmeas_3', 'xmeas_4', 'xmeas_5', 'xmeas_6',\n",
       "       'xmeas_7', 'xmeas_8', 'xmeas_9', 'xmeas_10', 'xmeas_11', 'xmeas_12',\n",
       "       'xmeas_13', 'xmeas_14', 'xmeas_15', 'xmeas_16', 'xmeas_17', 'xmeas_18',\n",
       "       'xmeas_19', 'xmeas_20', 'xmeas_21', 'xmeas_22', 'xmeas_23', 'xmeas_24',\n",
       "       'xmeas_25', 'xmeas_26', 'xmeas_27', 'xmeas_28', 'xmeas_29', 'xmeas_30',\n",
       "       'xmeas_31', 'xmeas_32', 'xmeas_33', 'xmeas_34', 'xmeas_35', 'xmeas_36',\n",
       "       'xmeas_37', 'xmeas_38', 'xmeas_39', 'xmeas_40', 'xmeas_41', 'xmv_1',\n",
       "       'xmv_2', 'xmv_3', 'xmv_4', 'xmv_5', 'xmv_6', 'xmv_7', 'xmv_8', 'xmv_9',\n",
       "       'xmv_10', 'xmv_11'],\n",
       "      dtype='object')"
      ]
     },
     "execution_count": 18,
     "metadata": {},
     "output_type": "execute_result"
    }
   ],
   "source": [
    "data_normal.columns"
   ]
  },
  {
   "cell_type": "code",
   "execution_count": 22,
   "id": "c5f14175",
   "metadata": {},
   "outputs": [],
   "source": [
    "from scipy.stats import f_oneway"
   ]
  },
  {
   "cell_type": "code",
   "execution_count": 23,
   "id": "1a56da93",
   "metadata": {},
   "outputs": [],
   "source": [
    "F, p = f_oneway(data_normal['xmeas_1'],data_normal['xmeas_2'])"
   ]
  },
  {
   "cell_type": "code",
   "execution_count": 24,
   "id": "f68f1094",
   "metadata": {},
   "outputs": [
    {
     "name": "stdout",
     "output_type": "stream",
     "text": [
      "F-Statistic :  6279265.522215907\n"
     ]
    }
   ],
   "source": [
    "print('F-Statistic : ',F)"
   ]
  },
  {
   "cell_type": "code",
   "execution_count": 25,
   "id": "5660da29",
   "metadata": {},
   "outputs": [
    {
     "name": "stdout",
     "output_type": "stream",
     "text": [
      "p-value :  0.0\n"
     ]
    }
   ],
   "source": [
    "print('p-value : ', p)"
   ]
  },
  {
   "cell_type": "code",
   "execution_count": 19,
   "id": "8b2158be",
   "metadata": {},
   "outputs": [],
   "source": [
    "# just trying to get every features in the data\n",
    "F, p = f_oneway(data_normal['xmeas_1'],data_normal['xmeas_2'],data_normal['xmeas_3'],data_normal['xmeas_4'],data_normal['xmeas_5'],data_normal['xmeas_6'],\n",
    "                data_normal['xmeas_7'],data_normal['xmeas_8'],data_normal['xmeas_9'],data_normal['xmeas_10'],data_normal['xmeas_11'],data_normal['xmeas_12'],\n",
    "                data_normal['xmeas_13'],data_normal['xmeas_14'],data_normal['xmeas_15'],data_normal['xmeas_16'],data_normal['xmeas_17'],data_normal['xmeas_18'],\n",
    "                data_normal['xmeas_19'],data_normal['xmeas_20'],data_normal['xmeas_21'],data_normal['xmeas_22'],data_normal['xmeas_23'],data_normal['xmeas_24'],\n",
    "                data_normal['xmeas_25'],data_normal['xmeas_26'],data_normal['xmeas_27'],data_normal['xmeas_28'],data_normal['xmeas_29'],data_normal['xmeas_30'],\n",
    "                data_normal['xmeas_31'],data_normal['xmeas_32'],data_normal['xmeas_33'],data_normal['xmeas_34'],data_normal['xmeas_35'],data_normal['xmeas_36'],\n",
    "                data_normal['xmeas_37'],data_normal['xmeas_38'],data_normal['xmeas_39'],data_normal['xmeas_40'],data_normal['xmeas_41'],data_normal['xmv_1'],\n",
    "                data_normal['xmv_2'],data_normal['xmv_3'],data_normal['xmv_4'],data_normal['xmv_5'],data_normal['xmv_6'],data_normal['xmv_7'],\n",
    "                data_normal['xmv_8'],data_normal['xmv_9'],data_normal['xmv_10'])\n",
    "# F : F statistic\n",
    "# p : p-value"
   ]
  },
  {
   "cell_type": "code",
   "execution_count": 20,
   "id": "43118b05",
   "metadata": {},
   "outputs": [
    {
     "name": "stdout",
     "output_type": "stream",
     "text": [
      "F-Statistic :  9404737.16444876\n"
     ]
    }
   ],
   "source": [
    "print('F-Statistic : ',F)"
   ]
  },
  {
   "cell_type": "code",
   "execution_count": 21,
   "id": "577a2898",
   "metadata": {},
   "outputs": [
    {
     "name": "stdout",
     "output_type": "stream",
     "text": [
      "p-value :  0.0\n"
     ]
    }
   ],
   "source": [
    "print('p-value : ', p)"
   ]
  },
  {
   "cell_type": "markdown",
   "id": "da500ed1",
   "metadata": {},
   "source": [
    "Reference [here](https://www.geeksforgeeks.org/how-to-perform-a-one-way-anova-in-python/)"
   ]
  },
  {
   "cell_type": "code",
   "execution_count": null,
   "id": "c8ab4f4e",
   "metadata": {},
   "outputs": [],
   "source": []
  }
 ],
 "metadata": {
  "kernelspec": {
   "display_name": "Python 3",
   "language": "python",
   "name": "python3"
  },
  "language_info": {
   "codemirror_mode": {
    "name": "ipython",
    "version": 3
   },
   "file_extension": ".py",
   "mimetype": "text/x-python",
   "name": "python",
   "nbconvert_exporter": "python",
   "pygments_lexer": "ipython3",
   "version": "3.6.10"
  }
 },
 "nbformat": 4,
 "nbformat_minor": 5
}
