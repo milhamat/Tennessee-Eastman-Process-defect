{
 "cells": [
  {
   "cell_type": "code",
   "execution_count": 1,
   "id": "773ee0c0",
   "metadata": {},
   "outputs": [],
   "source": [
    "import pandas as pd\n",
    "import numpy as np\n",
    "import matplotlib.pyplot as plt\n",
    "%matplotlib inline"
   ]
  },
  {
   "cell_type": "code",
   "execution_count": 2,
   "id": "6fdd6ceb",
   "metadata": {},
   "outputs": [],
   "source": [
    "from sklearn.datasets import load_boston"
   ]
  },
  {
   "cell_type": "code",
   "execution_count": 3,
   "id": "e49407b2",
   "metadata": {},
   "outputs": [
    {
     "name": "stderr",
     "output_type": "stream",
     "text": [
      "c:\\users\\m477a\\appdata\\local\\programs\\python\\python39\\lib\\site-packages\\sklearn\\utils\\deprecation.py:87: FutureWarning: Function load_boston is deprecated; `load_boston` is deprecated in 1.0 and will be removed in 1.2.\n",
      "\n",
      "    The Boston housing prices dataset has an ethical problem. You can refer to\n",
      "    the documentation of this function for further details.\n",
      "\n",
      "    The scikit-learn maintainers therefore strongly discourage the use of this\n",
      "    dataset unless the purpose of the code is to study and educate about\n",
      "    ethical issues in data science and machine learning.\n",
      "\n",
      "    In this special case, you can fetch the dataset from the original\n",
      "    source::\n",
      "\n",
      "        import pandas as pd\n",
      "        import numpy as np\n",
      "\n",
      "\n",
      "        data_url = \"http://lib.stat.cmu.edu/datasets/boston\"\n",
      "        raw_df = pd.read_csv(data_url, sep=\"\\s+\", skiprows=22, header=None)\n",
      "        data = np.hstack([raw_df.values[::2, :], raw_df.values[1::2, :2]])\n",
      "        target = raw_df.values[1::2, 2]\n",
      "\n",
      "    Alternative datasets include the California housing dataset (i.e.\n",
      "    :func:`~sklearn.datasets.fetch_california_housing`) and the Ames housing\n",
      "    dataset. You can load the datasets as follows::\n",
      "\n",
      "        from sklearn.datasets import fetch_california_housing\n",
      "        housing = fetch_california_housing()\n",
      "\n",
      "    for the California housing dataset and::\n",
      "\n",
      "        from sklearn.datasets import fetch_openml\n",
      "        housing = fetch_openml(name=\"house_prices\", as_frame=True)\n",
      "\n",
      "    for the Ames housing dataset.\n",
      "    \n",
      "  warnings.warn(msg, category=FutureWarning)\n"
     ]
    }
   ],
   "source": [
    "boston_dataset = load_boston()"
   ]
  },
  {
   "cell_type": "code",
   "execution_count": 4,
   "id": "6c221f02",
   "metadata": {},
   "outputs": [],
   "source": [
    "boston = pd.DataFrame(boston_dataset.data, columns=boston_dataset.feature_names)"
   ]
  },
  {
   "cell_type": "code",
   "execution_count": 5,
   "id": "597622ea",
   "metadata": {},
   "outputs": [],
   "source": [
    "# standardize the data\n",
    "from sklearn.preprocessing import StandardScaler\n",
    "\n",
    "x = StandardScaler().fit_transform(boston)\n",
    "x = pd.DataFrame(x, columns=boston_dataset.feature_names)"
   ]
  },
  {
   "cell_type": "code",
   "execution_count": 6,
   "id": "51f5bbc8",
   "metadata": {},
   "outputs": [],
   "source": [
    "## PCA, IPCA, KPCA\n",
    "from sklearn.decomposition import PCA, KernelPCA"
   ]
  },
  {
   "cell_type": "code",
   "execution_count": 7,
   "id": "a57bdacf",
   "metadata": {},
   "outputs": [],
   "source": [
    "pca = PCA(n_components=10)\n",
    "pcat = pca.fit_transform(x)"
   ]
  },
  {
   "cell_type": "code",
   "execution_count": 8,
   "id": "a883d27f",
   "metadata": {},
   "outputs": [],
   "source": [
    "# eigen vectors pca\n",
    "pca_evtr = pca.components_"
   ]
  },
  {
   "cell_type": "code",
   "execution_count": 9,
   "id": "1cf2127b",
   "metadata": {},
   "outputs": [],
   "source": [
    "# eigen values pca\n",
    "pca_evls = pca.explained_variance_"
   ]
  },
  {
   "cell_type": "code",
   "execution_count": 10,
   "id": "4dd74f41",
   "metadata": {},
   "outputs": [],
   "source": [
    "kpca = KernelPCA(n_components=13, remove_zero_eig=True)\n",
    "kpcat = kpca.fit_transform(x)"
   ]
  },
  {
   "cell_type": "code",
   "execution_count": 11,
   "id": "7f9f76d9",
   "metadata": {},
   "outputs": [],
   "source": [
    "# eigen vectors kpca\n",
    "kpca_evtr = kpca.eigenvectors_"
   ]
  },
  {
   "cell_type": "code",
   "execution_count": 12,
   "id": "b0b64d74",
   "metadata": {},
   "outputs": [],
   "source": [
    "# eigen values kpca\n",
    "kpca_evls = kpca.eigenvalues_"
   ]
  },
  {
   "cell_type": "code",
   "execution_count": 13,
   "id": "5c5b79b2",
   "metadata": {},
   "outputs": [
    {
     "data": {
      "text/plain": [
       "(10, 13)"
      ]
     },
     "execution_count": 13,
     "metadata": {},
     "output_type": "execute_result"
    }
   ],
   "source": [
    "# Shape comparison\n",
    "pca_evtr.shape"
   ]
  },
  {
   "cell_type": "code",
   "execution_count": 14,
   "id": "1dccdf3f",
   "metadata": {},
   "outputs": [
    {
     "data": {
      "text/plain": [
       "(10,)"
      ]
     },
     "execution_count": 14,
     "metadata": {},
     "output_type": "execute_result"
    }
   ],
   "source": [
    "pca_evls.shape"
   ]
  },
  {
   "cell_type": "code",
   "execution_count": 15,
   "id": "f2dafa62",
   "metadata": {},
   "outputs": [
    {
     "data": {
      "text/plain": [
       "(506, 13)"
      ]
     },
     "execution_count": 15,
     "metadata": {},
     "output_type": "execute_result"
    }
   ],
   "source": [
    "kpca_evtr.shape"
   ]
  },
  {
   "cell_type": "code",
   "execution_count": 16,
   "id": "201cf1c3",
   "metadata": {},
   "outputs": [
    {
     "data": {
      "text/plain": [
       "(13,)"
      ]
     },
     "execution_count": 16,
     "metadata": {},
     "output_type": "execute_result"
    }
   ],
   "source": [
    "kpca_evls.shape"
   ]
  },
  {
   "cell_type": "code",
   "execution_count": 17,
   "id": "202ef931",
   "metadata": {},
   "outputs": [
    {
     "data": {
      "text/plain": [
       "array([[-0.03768541,  0.02870799,  0.01367659, ..., -0.0034015 ,\n",
       "         0.00210036,  0.06455918],\n",
       "       [-0.02617223,  0.02198218, -0.02772461, ..., -0.06605119,\n",
       "        -0.0135914 , -0.01247514],\n",
       "       [-0.03725976,  0.02226641,  0.00666482, ..., -0.0502547 ,\n",
       "         0.01440486, -0.00247349],\n",
       "       ...,\n",
       "       [-0.00560999,  0.04289776, -0.01629491, ...,  0.01192123,\n",
       "         0.03046395,  0.01102053],\n",
       "       [-0.00485852,  0.03866887, -0.02334796, ...,  0.00896877,\n",
       "         0.03259635,  0.00959102],\n",
       "       [-0.00225942,  0.02829453, -0.05164001, ...,  0.01899881,\n",
       "         0.02514495,  0.00347668]])"
      ]
     },
     "execution_count": 17,
     "metadata": {},
     "output_type": "execute_result"
    }
   ],
   "source": [
    "kpca_evtr"
   ]
  },
  {
   "cell_type": "code",
   "execution_count": 18,
   "id": "e31e1b22",
   "metadata": {},
   "outputs": [
    {
     "data": {
      "text/plain": [
       "array([[ 0.2509514 , -0.25631454,  0.34667207,  0.00504243,  0.34285231,\n",
       "        -0.18924257,  0.3136706 , -0.32154387,  0.31979277,  0.33846915,\n",
       "         0.20494226, -0.20297261,  0.30975984],\n",
       "       [-0.31525237, -0.3233129 ,  0.11249291,  0.45482914,  0.21911553,\n",
       "         0.14933154,  0.31197778, -0.34907   , -0.27152094, -0.23945365,\n",
       "        -0.30589695,  0.23855944, -0.07432203],\n",
       "       [ 0.24656649,  0.29585782, -0.01594592,  0.28978082,  0.12096411,\n",
       "         0.59396117, -0.01767481, -0.04973627,  0.28725483,  0.22074447,\n",
       "        -0.32344627, -0.3001459 , -0.26700025],\n",
       "       [ 0.06177071,  0.12871159,  0.01714571,  0.81594136, -0.12822614,\n",
       "        -0.28059184, -0.17520603,  0.21543585,  0.13234996,  0.10333509,\n",
       "         0.28262198,  0.1684985 ,  0.06941441],\n",
       "       [ 0.08215692,  0.32061699, -0.00781119,  0.08653094,  0.13685356,\n",
       "        -0.4234472 ,  0.01669085,  0.09859225, -0.20413162, -0.13046057,\n",
       "        -0.58400223, -0.34560695,  0.39456113],\n",
       "       [-0.21965961, -0.3233881 , -0.0761379 ,  0.16749014, -0.15298267,\n",
       "         0.05926707, -0.07170914,  0.02343872, -0.14319401, -0.19293428,\n",
       "         0.2731533 , -0.80345454, -0.05321583],\n",
       "       [ 0.77760721, -0.27499628, -0.33957645,  0.07413621, -0.19963484,\n",
       "         0.06393992,  0.11601071, -0.10390044, -0.13794255, -0.31488683,\n",
       "         0.00232387,  0.07029476,  0.08701117],\n",
       "       [ 0.15335048, -0.40268031,  0.17393172, -0.02466215,  0.08012056,\n",
       "        -0.32675226, -0.60082292, -0.12181198,  0.08035831,  0.08277435,\n",
       "        -0.3178842 , -0.00492291, -0.42435293],\n",
       "       [ 0.26039028,  0.35813749,  0.64441615, -0.01372777, -0.01852201,\n",
       "         0.04789804, -0.06756218, -0.15329124, -0.47089067, -0.17656339,\n",
       "         0.25442836, -0.04489802, -0.19522139],\n",
       "       [ 0.01936913,  0.26752723, -0.36353226, -0.00618184,  0.23105645,\n",
       "        -0.43142019,  0.36277896, -0.17121314,  0.02190945, -0.03516835,\n",
       "         0.15343049, -0.09651512, -0.60071141]])"
      ]
     },
     "execution_count": 18,
     "metadata": {},
     "output_type": "execute_result"
    }
   ],
   "source": [
    "pca_evtr"
   ]
  },
  {
   "cell_type": "markdown",
   "id": "8ee9c8b0",
   "metadata": {},
   "source": [
    "## the conclusion \n",
    "so the kernel pca eigen vector are different with the normal eigen vector we can see from the different dimension"
   ]
  }
 ],
 "metadata": {
  "kernelspec": {
   "display_name": "Python 3 (ipykernel)",
   "language": "python",
   "name": "python3"
  },
  "language_info": {
   "codemirror_mode": {
    "name": "ipython",
    "version": 3
   },
   "file_extension": ".py",
   "mimetype": "text/x-python",
   "name": "python",
   "nbconvert_exporter": "python",
   "pygments_lexer": "ipython3",
   "version": "3.9.6"
  }
 },
 "nbformat": 4,
 "nbformat_minor": 5
}
