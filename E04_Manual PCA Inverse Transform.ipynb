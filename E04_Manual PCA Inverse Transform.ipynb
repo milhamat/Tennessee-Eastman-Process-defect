{
 "cells": [
  {
   "cell_type": "markdown",
   "id": "6ef29f5e",
   "metadata": {},
   "source": [
    "this experiment are for proving the methode of manualy inverse transform of Principal Component Analysis"
   ]
  },
  {
   "cell_type": "code",
   "execution_count": 1,
   "id": "e9f560bb",
   "metadata": {},
   "outputs": [],
   "source": [
    "# Imports\n",
    "import numpy as np\n",
    "import matplotlib.pyplot as plt\n",
    "import pandas as pd\n",
    "import seaborn as sns\n",
    "\n",
    "from matplotlib.pyplot import figure\n",
    "%matplotlib inline"
   ]
  },
  {
   "cell_type": "code",
   "execution_count": 2,
   "id": "9904d2b4",
   "metadata": {},
   "outputs": [
    {
     "name": "stderr",
     "output_type": "stream",
     "text": [
      "c:\\users\\m477a\\appdata\\local\\programs\\python\\python39\\lib\\site-packages\\sklearn\\utils\\deprecation.py:87: FutureWarning: Function load_boston is deprecated; `load_boston` is deprecated in 1.0 and will be removed in 1.2.\n",
      "\n",
      "    The Boston housing prices dataset has an ethical problem. You can refer to\n",
      "    the documentation of this function for further details.\n",
      "\n",
      "    The scikit-learn maintainers therefore strongly discourage the use of this\n",
      "    dataset unless the purpose of the code is to study and educate about\n",
      "    ethical issues in data science and machine learning.\n",
      "\n",
      "    In this special case, you can fetch the dataset from the original\n",
      "    source::\n",
      "\n",
      "        import pandas as pd\n",
      "        import numpy as np\n",
      "\n",
      "\n",
      "        data_url = \"http://lib.stat.cmu.edu/datasets/boston\"\n",
      "        raw_df = pd.read_csv(data_url, sep=\"\\s+\", skiprows=22, header=None)\n",
      "        data = np.hstack([raw_df.values[::2, :], raw_df.values[1::2, :2]])\n",
      "        target = raw_df.values[1::2, 2]\n",
      "\n",
      "    Alternative datasets include the California housing dataset (i.e.\n",
      "    :func:`~sklearn.datasets.fetch_california_housing`) and the Ames housing\n",
      "    dataset. You can load the datasets as follows::\n",
      "\n",
      "        from sklearn.datasets import fetch_california_housing\n",
      "        housing = fetch_california_housing()\n",
      "\n",
      "    for the California housing dataset and::\n",
      "\n",
      "        from sklearn.datasets import fetch_openml\n",
      "        housing = fetch_openml(name=\"house_prices\", as_frame=True)\n",
      "\n",
      "    for the Ames housing dataset.\n",
      "    \n",
      "  warnings.warn(msg, category=FutureWarning)\n"
     ]
    }
   ],
   "source": [
    "# Load the Dataset\n",
    "from sklearn.datasets import load_boston\n",
    "\n",
    "boston_dataset = load_boston() \n",
    "# converting bunch data from sklean into pandas DataFrame\n",
    "boston = pd.DataFrame(boston_dataset.data, columns=boston_dataset.feature_names)"
   ]
  },
  {
   "cell_type": "code",
   "execution_count": 3,
   "id": "23ec7644",
   "metadata": {},
   "outputs": [
    {
     "data": {
      "text/html": [
       "<div>\n",
       "<style scoped>\n",
       "    .dataframe tbody tr th:only-of-type {\n",
       "        vertical-align: middle;\n",
       "    }\n",
       "\n",
       "    .dataframe tbody tr th {\n",
       "        vertical-align: top;\n",
       "    }\n",
       "\n",
       "    .dataframe thead th {\n",
       "        text-align: right;\n",
       "    }\n",
       "</style>\n",
       "<table border=\"1\" class=\"dataframe\">\n",
       "  <thead>\n",
       "    <tr style=\"text-align: right;\">\n",
       "      <th></th>\n",
       "      <th>CRIM</th>\n",
       "      <th>ZN</th>\n",
       "      <th>INDUS</th>\n",
       "      <th>CHAS</th>\n",
       "      <th>NOX</th>\n",
       "      <th>RM</th>\n",
       "      <th>AGE</th>\n",
       "      <th>DIS</th>\n",
       "      <th>RAD</th>\n",
       "      <th>TAX</th>\n",
       "      <th>PTRATIO</th>\n",
       "      <th>B</th>\n",
       "      <th>LSTAT</th>\n",
       "    </tr>\n",
       "  </thead>\n",
       "  <tbody>\n",
       "    <tr>\n",
       "      <th>0</th>\n",
       "      <td>0.00632</td>\n",
       "      <td>18.0</td>\n",
       "      <td>2.31</td>\n",
       "      <td>0.0</td>\n",
       "      <td>0.538</td>\n",
       "      <td>6.575</td>\n",
       "      <td>65.2</td>\n",
       "      <td>4.0900</td>\n",
       "      <td>1.0</td>\n",
       "      <td>296.0</td>\n",
       "      <td>15.3</td>\n",
       "      <td>396.90</td>\n",
       "      <td>4.98</td>\n",
       "    </tr>\n",
       "    <tr>\n",
       "      <th>1</th>\n",
       "      <td>0.02731</td>\n",
       "      <td>0.0</td>\n",
       "      <td>7.07</td>\n",
       "      <td>0.0</td>\n",
       "      <td>0.469</td>\n",
       "      <td>6.421</td>\n",
       "      <td>78.9</td>\n",
       "      <td>4.9671</td>\n",
       "      <td>2.0</td>\n",
       "      <td>242.0</td>\n",
       "      <td>17.8</td>\n",
       "      <td>396.90</td>\n",
       "      <td>9.14</td>\n",
       "    </tr>\n",
       "    <tr>\n",
       "      <th>2</th>\n",
       "      <td>0.02729</td>\n",
       "      <td>0.0</td>\n",
       "      <td>7.07</td>\n",
       "      <td>0.0</td>\n",
       "      <td>0.469</td>\n",
       "      <td>7.185</td>\n",
       "      <td>61.1</td>\n",
       "      <td>4.9671</td>\n",
       "      <td>2.0</td>\n",
       "      <td>242.0</td>\n",
       "      <td>17.8</td>\n",
       "      <td>392.83</td>\n",
       "      <td>4.03</td>\n",
       "    </tr>\n",
       "    <tr>\n",
       "      <th>3</th>\n",
       "      <td>0.03237</td>\n",
       "      <td>0.0</td>\n",
       "      <td>2.18</td>\n",
       "      <td>0.0</td>\n",
       "      <td>0.458</td>\n",
       "      <td>6.998</td>\n",
       "      <td>45.8</td>\n",
       "      <td>6.0622</td>\n",
       "      <td>3.0</td>\n",
       "      <td>222.0</td>\n",
       "      <td>18.7</td>\n",
       "      <td>394.63</td>\n",
       "      <td>2.94</td>\n",
       "    </tr>\n",
       "    <tr>\n",
       "      <th>4</th>\n",
       "      <td>0.06905</td>\n",
       "      <td>0.0</td>\n",
       "      <td>2.18</td>\n",
       "      <td>0.0</td>\n",
       "      <td>0.458</td>\n",
       "      <td>7.147</td>\n",
       "      <td>54.2</td>\n",
       "      <td>6.0622</td>\n",
       "      <td>3.0</td>\n",
       "      <td>222.0</td>\n",
       "      <td>18.7</td>\n",
       "      <td>396.90</td>\n",
       "      <td>5.33</td>\n",
       "    </tr>\n",
       "  </tbody>\n",
       "</table>\n",
       "</div>"
      ],
      "text/plain": [
       "      CRIM    ZN  INDUS  CHAS    NOX     RM   AGE     DIS  RAD    TAX  \\\n",
       "0  0.00632  18.0   2.31   0.0  0.538  6.575  65.2  4.0900  1.0  296.0   \n",
       "1  0.02731   0.0   7.07   0.0  0.469  6.421  78.9  4.9671  2.0  242.0   \n",
       "2  0.02729   0.0   7.07   0.0  0.469  7.185  61.1  4.9671  2.0  242.0   \n",
       "3  0.03237   0.0   2.18   0.0  0.458  6.998  45.8  6.0622  3.0  222.0   \n",
       "4  0.06905   0.0   2.18   0.0  0.458  7.147  54.2  6.0622  3.0  222.0   \n",
       "\n",
       "   PTRATIO       B  LSTAT  \n",
       "0     15.3  396.90   4.98  \n",
       "1     17.8  396.90   9.14  \n",
       "2     17.8  392.83   4.03  \n",
       "3     18.7  394.63   2.94  \n",
       "4     18.7  396.90   5.33  "
      ]
     },
     "execution_count": 3,
     "metadata": {},
     "output_type": "execute_result"
    }
   ],
   "source": [
    "boston.head()"
   ]
  },
  {
   "cell_type": "code",
   "execution_count": 4,
   "id": "ad4b7dda",
   "metadata": {},
   "outputs": [
    {
     "name": "stdout",
     "output_type": "stream",
     "text": [
      "<class 'pandas.core.frame.DataFrame'>\n",
      "RangeIndex: 506 entries, 0 to 505\n",
      "Data columns (total 13 columns):\n",
      " #   Column   Non-Null Count  Dtype  \n",
      "---  ------   --------------  -----  \n",
      " 0   CRIM     506 non-null    float64\n",
      " 1   ZN       506 non-null    float64\n",
      " 2   INDUS    506 non-null    float64\n",
      " 3   CHAS     506 non-null    float64\n",
      " 4   NOX      506 non-null    float64\n",
      " 5   RM       506 non-null    float64\n",
      " 6   AGE      506 non-null    float64\n",
      " 7   DIS      506 non-null    float64\n",
      " 8   RAD      506 non-null    float64\n",
      " 9   TAX      506 non-null    float64\n",
      " 10  PTRATIO  506 non-null    float64\n",
      " 11  B        506 non-null    float64\n",
      " 12  LSTAT    506 non-null    float64\n",
      "dtypes: float64(13)\n",
      "memory usage: 51.5 KB\n"
     ]
    }
   ],
   "source": [
    "boston.info()"
   ]
  },
  {
   "cell_type": "code",
   "execution_count": 5,
   "id": "bdd6ab76",
   "metadata": {},
   "outputs": [],
   "source": [
    "# Standardize the data\n",
    "from sklearn.preprocessing import StandardScaler\n",
    "\n",
    "x = StandardScaler().fit_transform(boston)\n",
    "x = pd.DataFrame(x, columns=boston_dataset.feature_names)"
   ]
  },
  {
   "cell_type": "code",
   "execution_count": 6,
   "id": "f67f9fb1",
   "metadata": {},
   "outputs": [
    {
     "data": {
      "text/plain": [
       "(506, 13)"
      ]
     },
     "execution_count": 6,
     "metadata": {},
     "output_type": "execute_result"
    }
   ],
   "source": [
    "x.shape"
   ]
  },
  {
   "cell_type": "markdown",
   "id": "2f1a0dd5",
   "metadata": {},
   "source": [
    "## PCA Sklearn Inverse Transform"
   ]
  },
  {
   "cell_type": "code",
   "execution_count": 7,
   "id": "d43f20fa",
   "metadata": {},
   "outputs": [],
   "source": [
    "from sklearn.decomposition import PCA\n",
    "\n",
    "# Transform the data\n",
    "pca = PCA(n_components = 0.9) # we also can remove the n_components parameter\n",
    "pcat = pca.fit_transform(x)"
   ]
  },
  {
   "cell_type": "code",
   "execution_count": 8,
   "id": "afb7cf0d",
   "metadata": {},
   "outputs": [],
   "source": [
    "invers_t = pca.inverse_transform(pcat)"
   ]
  },
  {
   "cell_type": "code",
   "execution_count": 9,
   "id": "2cd45329",
   "metadata": {},
   "outputs": [
    {
     "data": {
      "text/plain": [
       "array([[-0.34365513,  0.30541694, -0.69725392, ..., -1.4559906 ,\n",
       "         0.48522105, -0.77499904],\n",
       "       [-0.43159269, -0.29679339, -0.68143546, ..., -0.13369228,\n",
       "         0.45897034, -0.29185252],\n",
       "       [-0.49639761, -0.32795803, -0.84015952, ..., -0.23570688,\n",
       "         0.38592258, -1.17816832],\n",
       "       ...,\n",
       "       [-0.69497248, -1.00201422, -0.21942339, ...,  0.75564637,\n",
       "         0.52829549, -0.48579308],\n",
       "       [-0.68233703, -0.97919848, -0.19757883, ...,  0.76720492,\n",
       "         0.48864985, -0.36684137],\n",
       "       [-0.65438963, -1.04431523, -0.04852907, ...,  0.75126665,\n",
       "         0.54572154, -0.07093254]])"
      ]
     },
     "execution_count": 9,
     "metadata": {},
     "output_type": "execute_result"
    }
   ],
   "source": [
    "invers_t"
   ]
  },
  {
   "cell_type": "code",
   "execution_count": 10,
   "id": "76225ee3",
   "metadata": {},
   "outputs": [
    {
     "data": {
      "text/plain": [
       "(506, 13)"
      ]
     },
     "execution_count": 10,
     "metadata": {},
     "output_type": "execute_result"
    }
   ],
   "source": [
    "invers_t.shape"
   ]
  },
  {
   "cell_type": "markdown",
   "id": "08c58a96",
   "metadata": {},
   "source": [
    "## Manual Inverse Transform"
   ]
  },
  {
   "cell_type": "code",
   "execution_count": 11,
   "id": "233cc6e0",
   "metadata": {},
   "outputs": [],
   "source": [
    "# Inverse transform the data MANUALY\n",
    "# here the formula\n",
    "# data_reduced = np.dot(data - pca.mean_, pca.components_.T)\n",
    "# data_original = np.dot(data_reduced, pca.components_) + pca.mean_\n",
    "\n",
    "# example\n",
    "# import numpy as np\n",
    "# from sklearn.decomposition import PCA\n",
    "\n",
    "# pca = PCA(n_components=3)\n",
    "# pca.fit(data)\n",
    "\n",
    "# data_reduced = np.dot(data, pca.components_.T) # transform\n",
    "# data_original = np.dot(data_reduced, pca.components_) # inverse_transform"
   ]
  },
  {
   "cell_type": "code",
   "execution_count": 12,
   "id": "e930962b",
   "metadata": {},
   "outputs": [],
   "source": [
    "data_reduced = np.dot(x - pca.mean_, pca.components_.T)"
   ]
  },
  {
   "cell_type": "code",
   "execution_count": 13,
   "id": "c91c7145",
   "metadata": {},
   "outputs": [
    {
     "data": {
      "text/plain": [
       "array([[-2.09829747,  0.77311275,  0.34294273, ..., -0.31533814,\n",
       "         0.31864075,  0.2958318 ],\n",
       "       [-1.45725167,  0.59198521, -0.69519931, ...,  0.26422321,\n",
       "         0.55386126, -0.22366994],\n",
       "       [-2.07459756,  0.5996394 ,  0.1671216 , ...,  0.44809462,\n",
       "         0.48455996,  0.10516613],\n",
       "       ...,\n",
       "       [-0.31236047,  1.15524644, -0.40859759, ...,  0.46794669,\n",
       "         0.29411936, -0.63866037],\n",
       "       [-0.27051907,  1.04136158, -0.58545406, ...,  0.48225947,\n",
       "         0.27159707, -0.57934447],\n",
       "       [-0.12580322,  0.76197805, -1.294882  , ...,  0.40147353,\n",
       "         0.17530965, -0.13338197]])"
      ]
     },
     "execution_count": 13,
     "metadata": {},
     "output_type": "execute_result"
    }
   ],
   "source": [
    "data_reduced"
   ]
  },
  {
   "cell_type": "code",
   "execution_count": 14,
   "id": "3cb02e72",
   "metadata": {},
   "outputs": [],
   "source": [
    "data_original = np.dot(data_reduced, pca.components_) + pca.mean_"
   ]
  },
  {
   "cell_type": "code",
   "execution_count": 15,
   "id": "6dbab29c",
   "metadata": {},
   "outputs": [
    {
     "data": {
      "text/plain": [
       "array([[-0.34365513,  0.30541694, -0.69725392, ..., -1.4559906 ,\n",
       "         0.48522105, -0.77499904],\n",
       "       [-0.43159269, -0.29679339, -0.68143546, ..., -0.13369228,\n",
       "         0.45897034, -0.29185252],\n",
       "       [-0.49639761, -0.32795803, -0.84015952, ..., -0.23570688,\n",
       "         0.38592258, -1.17816832],\n",
       "       ...,\n",
       "       [-0.69497248, -1.00201422, -0.21942339, ...,  0.75564637,\n",
       "         0.52829549, -0.48579308],\n",
       "       [-0.68233703, -0.97919848, -0.19757883, ...,  0.76720492,\n",
       "         0.48864985, -0.36684137],\n",
       "       [-0.65438963, -1.04431523, -0.04852907, ...,  0.75126665,\n",
       "         0.54572154, -0.07093254]])"
      ]
     },
     "execution_count": 15,
     "metadata": {},
     "output_type": "execute_result"
    }
   ],
   "source": [
    "data_original"
   ]
  },
  {
   "cell_type": "markdown",
   "id": "75160a5c",
   "metadata": {},
   "source": [
    "## conclusion\n",
    "we can see that the manual and the sklearn pca inverse transform has same result\n",
    "\n",
    "source [here](https://stackoverflow.com/questions/32750915/pca-inverse-transform-manually)"
   ]
  },
  {
   "cell_type": "code",
   "execution_count": 16,
   "id": "67e2ebd5",
   "metadata": {},
   "outputs": [
    {
     "data": {
      "text/plain": [
       "array([[ 0.2509514 , -0.25631454,  0.34667207,  0.00504243,  0.34285231,\n",
       "        -0.18924257,  0.3136706 , -0.32154387,  0.31979277,  0.33846915,\n",
       "         0.20494226, -0.20297261,  0.30975984],\n",
       "       [-0.31525237, -0.3233129 ,  0.11249291,  0.45482914,  0.21911553,\n",
       "         0.14933154,  0.31197778, -0.34907   , -0.27152094, -0.23945365,\n",
       "        -0.30589695,  0.23855944, -0.07432203],\n",
       "       [ 0.24656649,  0.29585782, -0.01594592,  0.28978082,  0.12096411,\n",
       "         0.59396117, -0.01767481, -0.04973627,  0.28725483,  0.22074447,\n",
       "        -0.32344627, -0.3001459 , -0.26700025],\n",
       "       [ 0.06177071,  0.12871159,  0.01714571,  0.81594136, -0.12822614,\n",
       "        -0.28059184, -0.17520603,  0.21543585,  0.13234996,  0.10333509,\n",
       "         0.28262198,  0.1684985 ,  0.06941441],\n",
       "       [ 0.08215692,  0.32061699, -0.00781119,  0.08653094,  0.13685356,\n",
       "        -0.4234472 ,  0.01669085,  0.09859225, -0.20413162, -0.13046057,\n",
       "        -0.58400223, -0.34560695,  0.39456113],\n",
       "       [-0.21965961, -0.3233881 , -0.0761379 ,  0.16749014, -0.15298267,\n",
       "         0.05926707, -0.07170914,  0.02343872, -0.14319401, -0.19293428,\n",
       "         0.2731533 , -0.80345454, -0.05321583],\n",
       "       [ 0.77760721, -0.27499628, -0.33957645,  0.07413621, -0.19963484,\n",
       "         0.06393992,  0.11601071, -0.10390044, -0.13794255, -0.31488683,\n",
       "         0.00232387,  0.07029476,  0.08701117],\n",
       "       [ 0.15335048, -0.40268031,  0.17393172, -0.02466215,  0.08012056,\n",
       "        -0.32675226, -0.60082292, -0.12181198,  0.08035831,  0.08277435,\n",
       "        -0.3178842 , -0.00492291, -0.42435293]])"
      ]
     },
     "execution_count": 16,
     "metadata": {},
     "output_type": "execute_result"
    }
   ],
   "source": [
    "# further into the components\n",
    "pca.components_"
   ]
  },
  {
   "cell_type": "code",
   "execution_count": 17,
   "id": "e5096bf6",
   "metadata": {},
   "outputs": [
    {
     "data": {
      "text/plain": [
       "(8, 13)"
      ]
     },
     "execution_count": 17,
     "metadata": {},
     "output_type": "execute_result"
    }
   ],
   "source": [
    "pca.components_.shape"
   ]
  },
  {
   "cell_type": "code",
   "execution_count": 18,
   "id": "e71141ee",
   "metadata": {},
   "outputs": [
    {
     "data": {
      "text/plain": [
       "array([-8.78743718e-17, -6.34319123e-16, -2.68291099e-15,  4.70199198e-16,\n",
       "        2.49032240e-15, -1.14523016e-14, -1.40785495e-15,  9.21090169e-16,\n",
       "        5.44140929e-16, -8.86861950e-16, -9.20563581e-15,  8.16310129e-15,\n",
       "       -3.37016317e-16])"
      ]
     },
     "execution_count": 18,
     "metadata": {},
     "output_type": "execute_result"
    }
   ],
   "source": [
    "pca.mean_"
   ]
  },
  {
   "cell_type": "code",
   "execution_count": 19,
   "id": "bc7b5b8f",
   "metadata": {},
   "outputs": [
    {
     "data": {
      "text/plain": [
       "(13,)"
      ]
     },
     "execution_count": 19,
     "metadata": {},
     "output_type": "execute_result"
    }
   ],
   "source": [
    "pca.mean_.shape"
   ]
  }
 ],
 "metadata": {
  "kernelspec": {
   "display_name": "Python 3 (ipykernel)",
   "language": "python",
   "name": "python3"
  },
  "language_info": {
   "codemirror_mode": {
    "name": "ipython",
    "version": 3
   },
   "file_extension": ".py",
   "mimetype": "text/x-python",
   "name": "python",
   "nbconvert_exporter": "python",
   "pygments_lexer": "ipython3",
   "version": "3.9.6"
  }
 },
 "nbformat": 4,
 "nbformat_minor": 5
}
