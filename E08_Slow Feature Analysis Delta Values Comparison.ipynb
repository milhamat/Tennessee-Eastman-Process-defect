{
 "cells": [
  {
   "cell_type": "code",
   "execution_count": 1,
   "id": "24c1f3a2",
   "metadata": {},
   "outputs": [],
   "source": [
    "import pandas as pd\n",
    "import matplotlib.pyplot as plt\n",
    "%matplotlib inline"
   ]
  },
  {
   "cell_type": "code",
   "execution_count": 2,
   "id": "b983aebd",
   "metadata": {},
   "outputs": [],
   "source": [
    "train_normal = pd.read_csv('./data/normal_training.csv')"
   ]
  },
  {
   "cell_type": "code",
   "execution_count": 3,
   "id": "fa70ea76",
   "metadata": {},
   "outputs": [],
   "source": [
    "# the data \n",
    "x = train_normal[train_normal.simulationRun==1].iloc[:,3:]"
   ]
  },
  {
   "cell_type": "code",
   "execution_count": 4,
   "id": "4e0bf4da",
   "metadata": {},
   "outputs": [
    {
     "data": {
      "text/html": [
       "<div>\n",
       "<style scoped>\n",
       "    .dataframe tbody tr th:only-of-type {\n",
       "        vertical-align: middle;\n",
       "    }\n",
       "\n",
       "    .dataframe tbody tr th {\n",
       "        vertical-align: top;\n",
       "    }\n",
       "\n",
       "    .dataframe thead th {\n",
       "        text-align: right;\n",
       "    }\n",
       "</style>\n",
       "<table border=\"1\" class=\"dataframe\">\n",
       "  <thead>\n",
       "    <tr style=\"text-align: right;\">\n",
       "      <th></th>\n",
       "      <th>xmeas_1</th>\n",
       "      <th>xmeas_2</th>\n",
       "      <th>xmeas_3</th>\n",
       "      <th>xmeas_4</th>\n",
       "      <th>xmeas_5</th>\n",
       "      <th>xmeas_6</th>\n",
       "      <th>xmeas_7</th>\n",
       "      <th>xmeas_8</th>\n",
       "      <th>xmeas_9</th>\n",
       "      <th>xmeas_10</th>\n",
       "      <th>...</th>\n",
       "      <th>xmv_2</th>\n",
       "      <th>xmv_3</th>\n",
       "      <th>xmv_4</th>\n",
       "      <th>xmv_5</th>\n",
       "      <th>xmv_6</th>\n",
       "      <th>xmv_7</th>\n",
       "      <th>xmv_8</th>\n",
       "      <th>xmv_9</th>\n",
       "      <th>xmv_10</th>\n",
       "      <th>xmv_11</th>\n",
       "    </tr>\n",
       "  </thead>\n",
       "  <tbody>\n",
       "    <tr>\n",
       "      <th>0</th>\n",
       "      <td>0.25038</td>\n",
       "      <td>3674.0</td>\n",
       "      <td>4529.0</td>\n",
       "      <td>9.2320</td>\n",
       "      <td>26.889</td>\n",
       "      <td>42.402</td>\n",
       "      <td>2704.3</td>\n",
       "      <td>74.863</td>\n",
       "      <td>120.41</td>\n",
       "      <td>0.33818</td>\n",
       "      <td>...</td>\n",
       "      <td>53.744</td>\n",
       "      <td>24.657</td>\n",
       "      <td>62.544</td>\n",
       "      <td>22.137</td>\n",
       "      <td>39.935</td>\n",
       "      <td>42.323</td>\n",
       "      <td>47.757</td>\n",
       "      <td>47.510</td>\n",
       "      <td>41.258</td>\n",
       "      <td>18.447</td>\n",
       "    </tr>\n",
       "    <tr>\n",
       "      <th>1</th>\n",
       "      <td>0.25109</td>\n",
       "      <td>3659.4</td>\n",
       "      <td>4556.6</td>\n",
       "      <td>9.4264</td>\n",
       "      <td>26.721</td>\n",
       "      <td>42.576</td>\n",
       "      <td>2705.0</td>\n",
       "      <td>75.000</td>\n",
       "      <td>120.41</td>\n",
       "      <td>0.33620</td>\n",
       "      <td>...</td>\n",
       "      <td>53.414</td>\n",
       "      <td>24.588</td>\n",
       "      <td>59.259</td>\n",
       "      <td>22.084</td>\n",
       "      <td>40.176</td>\n",
       "      <td>38.554</td>\n",
       "      <td>43.692</td>\n",
       "      <td>47.427</td>\n",
       "      <td>41.359</td>\n",
       "      <td>17.194</td>\n",
       "    </tr>\n",
       "    <tr>\n",
       "      <th>2</th>\n",
       "      <td>0.25038</td>\n",
       "      <td>3660.3</td>\n",
       "      <td>4477.8</td>\n",
       "      <td>9.4426</td>\n",
       "      <td>26.875</td>\n",
       "      <td>42.070</td>\n",
       "      <td>2706.2</td>\n",
       "      <td>74.771</td>\n",
       "      <td>120.42</td>\n",
       "      <td>0.33563</td>\n",
       "      <td>...</td>\n",
       "      <td>54.357</td>\n",
       "      <td>24.666</td>\n",
       "      <td>61.275</td>\n",
       "      <td>22.380</td>\n",
       "      <td>40.244</td>\n",
       "      <td>38.990</td>\n",
       "      <td>46.699</td>\n",
       "      <td>47.468</td>\n",
       "      <td>41.199</td>\n",
       "      <td>20.530</td>\n",
       "    </tr>\n",
       "    <tr>\n",
       "      <th>3</th>\n",
       "      <td>0.24977</td>\n",
       "      <td>3661.3</td>\n",
       "      <td>4512.1</td>\n",
       "      <td>9.4776</td>\n",
       "      <td>26.758</td>\n",
       "      <td>42.063</td>\n",
       "      <td>2707.2</td>\n",
       "      <td>75.224</td>\n",
       "      <td>120.39</td>\n",
       "      <td>0.33553</td>\n",
       "      <td>...</td>\n",
       "      <td>53.946</td>\n",
       "      <td>24.725</td>\n",
       "      <td>59.856</td>\n",
       "      <td>22.277</td>\n",
       "      <td>40.257</td>\n",
       "      <td>38.072</td>\n",
       "      <td>47.541</td>\n",
       "      <td>47.658</td>\n",
       "      <td>41.643</td>\n",
       "      <td>18.089</td>\n",
       "    </tr>\n",
       "    <tr>\n",
       "      <th>4</th>\n",
       "      <td>0.29405</td>\n",
       "      <td>3679.0</td>\n",
       "      <td>4497.0</td>\n",
       "      <td>9.3381</td>\n",
       "      <td>26.889</td>\n",
       "      <td>42.650</td>\n",
       "      <td>2705.1</td>\n",
       "      <td>75.388</td>\n",
       "      <td>120.39</td>\n",
       "      <td>0.32632</td>\n",
       "      <td>...</td>\n",
       "      <td>53.658</td>\n",
       "      <td>28.797</td>\n",
       "      <td>60.717</td>\n",
       "      <td>21.947</td>\n",
       "      <td>39.144</td>\n",
       "      <td>41.955</td>\n",
       "      <td>47.645</td>\n",
       "      <td>47.346</td>\n",
       "      <td>41.507</td>\n",
       "      <td>18.461</td>\n",
       "    </tr>\n",
       "  </tbody>\n",
       "</table>\n",
       "<p>5 rows × 52 columns</p>\n",
       "</div>"
      ],
      "text/plain": [
       "   xmeas_1  xmeas_2  xmeas_3  xmeas_4  xmeas_5  xmeas_6  xmeas_7  xmeas_8  \\\n",
       "0  0.25038   3674.0   4529.0   9.2320   26.889   42.402   2704.3   74.863   \n",
       "1  0.25109   3659.4   4556.6   9.4264   26.721   42.576   2705.0   75.000   \n",
       "2  0.25038   3660.3   4477.8   9.4426   26.875   42.070   2706.2   74.771   \n",
       "3  0.24977   3661.3   4512.1   9.4776   26.758   42.063   2707.2   75.224   \n",
       "4  0.29405   3679.0   4497.0   9.3381   26.889   42.650   2705.1   75.388   \n",
       "\n",
       "   xmeas_9  xmeas_10  ...   xmv_2   xmv_3   xmv_4   xmv_5   xmv_6   xmv_7  \\\n",
       "0   120.41   0.33818  ...  53.744  24.657  62.544  22.137  39.935  42.323   \n",
       "1   120.41   0.33620  ...  53.414  24.588  59.259  22.084  40.176  38.554   \n",
       "2   120.42   0.33563  ...  54.357  24.666  61.275  22.380  40.244  38.990   \n",
       "3   120.39   0.33553  ...  53.946  24.725  59.856  22.277  40.257  38.072   \n",
       "4   120.39   0.32632  ...  53.658  28.797  60.717  21.947  39.144  41.955   \n",
       "\n",
       "    xmv_8   xmv_9  xmv_10  xmv_11  \n",
       "0  47.757  47.510  41.258  18.447  \n",
       "1  43.692  47.427  41.359  17.194  \n",
       "2  46.699  47.468  41.199  20.530  \n",
       "3  47.541  47.658  41.643  18.089  \n",
       "4  47.645  47.346  41.507  18.461  \n",
       "\n",
       "[5 rows x 52 columns]"
      ]
     },
     "execution_count": 4,
     "metadata": {},
     "output_type": "execute_result"
    }
   ],
   "source": [
    "x.head()"
   ]
  },
  {
   "cell_type": "code",
   "execution_count": 5,
   "id": "2f97425d",
   "metadata": {},
   "outputs": [],
   "source": [
    "# pip install MDP"
   ]
  },
  {
   "cell_type": "code",
   "execution_count": 6,
   "id": "016d2233",
   "metadata": {},
   "outputs": [],
   "source": [
    "# pip install mdp"
   ]
  },
  {
   "cell_type": "code",
   "execution_count": 7,
   "id": "1c0945cf",
   "metadata": {},
   "outputs": [],
   "source": [
    "# pip install sklearn-sfa"
   ]
  },
  {
   "cell_type": "markdown",
   "id": "4322ddc1",
   "metadata": {},
   "source": [
    "### MDP nodes\n",
    "\n",
    "documentation [here](https://mdp-toolkit.github.io/api/mdp.nodes.SFANode-class.html)"
   ]
  },
  {
   "cell_type": "code",
   "execution_count": 5,
   "id": "c74607b6",
   "metadata": {},
   "outputs": [],
   "source": [
    "import mdp"
   ]
  },
  {
   "cell_type": "code",
   "execution_count": 6,
   "id": "ac31c2d6",
   "metadata": {},
   "outputs": [],
   "source": [
    "sfa_mdp = mdp.nodes.SFANode()"
   ]
  },
  {
   "cell_type": "code",
   "execution_count": 7,
   "id": "8e71a5df",
   "metadata": {},
   "outputs": [],
   "source": [
    "x_arr = x.to_numpy()"
   ]
  },
  {
   "cell_type": "code",
   "execution_count": 8,
   "id": "a9620033",
   "metadata": {},
   "outputs": [],
   "source": [
    "# transformed data \n",
    "slw_mdp = sfa_mdp.execute(x_arr) \n",
    "# need to be ndarray type not dataframe pandas"
   ]
  },
  {
   "cell_type": "code",
   "execution_count": 9,
   "id": "c5c0befc",
   "metadata": {},
   "outputs": [
    {
     "data": {
      "text/plain": [
       "(500, 52)"
      ]
     },
     "execution_count": 9,
     "metadata": {},
     "output_type": "execute_result"
    }
   ],
   "source": [
    "slw_mdp.shape"
   ]
  },
  {
   "cell_type": "code",
   "execution_count": 10,
   "id": "e05f4fb4",
   "metadata": {},
   "outputs": [
    {
     "data": {
      "text/plain": [
       "array([0.00487112, 0.01571687, 0.0458013 , 0.17420306, 0.24654455,\n",
       "       0.26630531, 0.33229181, 0.34403043, 0.42362026, 0.44441458,\n",
       "       0.47172056, 0.50539072, 0.51880153, 0.58699937, 0.78107   ,\n",
       "       0.84025394, 0.87041057, 0.93495258, 0.97605678, 1.03221422,\n",
       "       1.05305495, 1.10807335, 1.12299612, 1.14488413, 1.26605999,\n",
       "       1.33813469, 1.38829501, 1.49870622, 1.55379822, 1.63992729,\n",
       "       1.67672126, 1.68330124, 1.73669476, 1.7994772 , 1.85794044,\n",
       "       1.89598278, 1.93228443, 2.04156394, 2.06526308, 2.08566136,\n",
       "       2.11402723, 2.15639672, 2.20257404, 2.23733235, 2.31627015,\n",
       "       2.36494781, 2.39702505, 2.45733563, 2.5212554 , 2.60673594,\n",
       "       3.02135107, 3.25333792])"
      ]
     },
     "execution_count": 10,
     "metadata": {},
     "output_type": "execute_result"
    }
   ],
   "source": [
    "sfa_mdp.d\n",
    "# Delta values corresponding to the \n",
    "# SFA components (generalized eigenvalues)"
   ]
  },
  {
   "cell_type": "code",
   "execution_count": 12,
   "id": "06fc89ff",
   "metadata": {},
   "outputs": [
    {
     "data": {
      "text/plain": [
       "(52,)"
      ]
     },
     "execution_count": 12,
     "metadata": {},
     "output_type": "execute_result"
    }
   ],
   "source": [
    "sfa_mdp.d.shape"
   ]
  },
  {
   "cell_type": "code",
   "execution_count": 11,
   "id": "57d17be7",
   "metadata": {},
   "outputs": [
    {
     "data": {
      "text/plain": [
       "array([[-1.56637471e-01, -2.19281698e-01,  4.85266394e+00, ...,\n",
       "        -3.18693507e+01, -2.79637827e-01, -2.37544250e+01],\n",
       "       [-6.99880322e-05, -1.11287616e-03, -1.54827082e-03, ...,\n",
       "        -1.40271443e-02,  1.62620421e-02,  1.73678734e-03],\n",
       "       [-2.27049662e-05,  3.13223424e-05, -1.03623680e-03, ...,\n",
       "        -8.02734168e-03, -1.28707864e-03, -4.22387655e-04],\n",
       "       ...,\n",
       "       [-2.62800776e-01,  2.29859773e-01, -7.77215550e-02, ...,\n",
       "         1.25759823e-01,  1.33922823e-01,  1.30627784e-01],\n",
       "       [ 4.33191630e-03, -3.11632552e-04, -1.79311455e-04, ...,\n",
       "        -1.91246786e-01, -3.84589890e-01, -1.28766577e+00],\n",
       "       [-1.71676425e+00, -7.76069065e+00,  2.97857821e+01, ...,\n",
       "        -3.52532483e+00, -3.81165886e-01,  3.93094718e-01]])"
      ]
     },
     "execution_count": 11,
     "metadata": {},
     "output_type": "execute_result"
    }
   ],
   "source": [
    "sfa_mdp.sf"
   ]
  },
  {
   "cell_type": "code",
   "execution_count": 13,
   "id": "c4eac9a5",
   "metadata": {},
   "outputs": [
    {
     "data": {
      "text/plain": [
       "(52, 52)"
      ]
     },
     "execution_count": 13,
     "metadata": {},
     "output_type": "execute_result"
    }
   ],
   "source": [
    "sfa_mdp.sf.shape"
   ]
  },
  {
   "cell_type": "markdown",
   "id": "499794db",
   "metadata": {},
   "source": [
    "## skfa \n",
    "\n",
    "documentation [here](https://sklearn-sfa.readthedocs.io/en/latest/generated/sksfa.SFA.html)\n",
    "\n",
    "how to install [here](https://pypi.org/project/sklearn-sfa/)"
   ]
  },
  {
   "cell_type": "code",
   "execution_count": 14,
   "id": "abe655a5",
   "metadata": {},
   "outputs": [],
   "source": [
    "from sksfa import SFA"
   ]
  },
  {
   "cell_type": "code",
   "execution_count": 15,
   "id": "8371c91f",
   "metadata": {},
   "outputs": [],
   "source": [
    "sfa = SFA()"
   ]
  },
  {
   "cell_type": "code",
   "execution_count": 16,
   "id": "066d5db5",
   "metadata": {},
   "outputs": [],
   "source": [
    "sfat = sfa.fit_transform(x)"
   ]
  },
  {
   "cell_type": "code",
   "execution_count": 17,
   "id": "71601c0e",
   "metadata": {},
   "outputs": [
    {
     "data": {
      "text/plain": [
       "(500, 52)"
      ]
     },
     "execution_count": 17,
     "metadata": {},
     "output_type": "execute_result"
    }
   ],
   "source": [
    "sfat.shape"
   ]
  },
  {
   "cell_type": "code",
   "execution_count": 18,
   "id": "c0058b05",
   "metadata": {},
   "outputs": [
    {
     "data": {
      "text/plain": [
       "array([0.00486171, 0.01571633, 0.04578785, 0.17419203, 0.24654432,\n",
       "       0.26630523, 0.33229031, 0.34401537, 0.42362021, 0.44441359,\n",
       "       0.47171715, 0.50538802, 0.51880086, 0.58699806, 0.78106762,\n",
       "       0.84025334, 0.8704096 , 0.93495251, 0.97604734, 1.03219938,\n",
       "       1.05305494, 1.10807208, 1.1229825 , 1.1448597 , 1.26605458,\n",
       "       1.33812655, 1.3882803 , 1.49870623, 1.55378678, 1.63992005,\n",
       "       1.67672151, 1.68329745, 1.73668443, 1.7994791 , 1.85793778,\n",
       "       1.8959761 , 1.93227305, 2.04152587, 2.06523639, 2.08566186,\n",
       "       2.11402753, 2.15639552, 2.20254492, 2.23732949, 2.31626959,\n",
       "       2.36494984, 2.39701878, 2.4573292 , 2.52125432, 2.6067328 ,\n",
       "       3.02134796, 3.25333707])"
      ]
     },
     "execution_count": 18,
     "metadata": {},
     "output_type": "execute_result"
    }
   ],
   "source": [
    "sfa.delta_values_\n",
    "# here is the the estimated delta values (mean squared time-difference)\n",
    "# of the different components"
   ]
  },
  {
   "cell_type": "code",
   "execution_count": 19,
   "id": "4c91bdf5",
   "metadata": {},
   "outputs": [
    {
     "data": {
      "text/plain": [
       "52"
      ]
     },
     "execution_count": 19,
     "metadata": {},
     "output_type": "execute_result"
    }
   ],
   "source": [
    "len(sfa.delta_values_)"
   ]
  },
  {
   "cell_type": "code",
   "execution_count": 20,
   "id": "4c9d12ba",
   "metadata": {},
   "outputs": [
    {
     "data": {
      "text/plain": [
       "numpy.ndarray"
      ]
     },
     "execution_count": 20,
     "metadata": {},
     "output_type": "execute_result"
    }
   ],
   "source": [
    "type(sfa.delta_values_)"
   ]
  },
  {
   "cell_type": "code",
   "execution_count": 21,
   "id": "57708e00",
   "metadata": {},
   "outputs": [
    {
     "data": {
      "text/plain": [
       "52"
      ]
     },
     "execution_count": 21,
     "metadata": {},
     "output_type": "execute_result"
    }
   ],
   "source": [
    "sfa.input_dim_\n",
    "# The number of input features."
   ]
  },
  {
   "cell_type": "code",
   "execution_count": 22,
   "id": "d924ec78",
   "metadata": {},
   "outputs": [
    {
     "data": {
      "text/plain": [
       "52"
      ]
     },
     "execution_count": 22,
     "metadata": {},
     "output_type": "execute_result"
    }
   ],
   "source": [
    "sfa.n_nontrivial_components_\n",
    "# The number of components that did not fall under the threshold\n",
    "# defined by robustness_cutoff. Read a: effective dimension of"
   ]
  },
  {
   "cell_type": "code",
   "execution_count": 23,
   "id": "3642d933",
   "metadata": {},
   "outputs": [],
   "source": [
    "d = sfa.delta_values_"
   ]
  },
  {
   "cell_type": "code",
   "execution_count": 24,
   "id": "05f7b06e",
   "metadata": {},
   "outputs": [
    {
     "data": {
      "text/plain": [
       "array([0.00486171, 0.01571633, 0.04578785, 0.17419203, 0.24654432,\n",
       "       0.26630523, 0.33229031, 0.34401537, 0.42362021, 0.44441359,\n",
       "       0.47171715, 0.50538802, 0.51880086, 0.58699806, 0.78106762,\n",
       "       0.84025334, 0.8704096 , 0.93495251, 0.97604734, 1.03219938,\n",
       "       1.05305494, 1.10807208, 1.1229825 , 1.1448597 , 1.26605458,\n",
       "       1.33812655, 1.3882803 , 1.49870623, 1.55378678, 1.63992005,\n",
       "       1.67672151, 1.68329745, 1.73668443, 1.7994791 , 1.85793778,\n",
       "       1.8959761 , 1.93227305, 2.04152587, 2.06523639, 2.08566186,\n",
       "       2.11402753, 2.15639552, 2.20254492, 2.23732949, 2.31626959,\n",
       "       2.36494984, 2.39701878, 2.4573292 , 2.52125432, 2.6067328 ,\n",
       "       3.02134796, 3.25333707])"
      ]
     },
     "execution_count": 24,
     "metadata": {},
     "output_type": "execute_result"
    }
   ],
   "source": [
    "d"
   ]
  },
  {
   "cell_type": "code",
   "execution_count": 25,
   "id": "ef539e82",
   "metadata": {},
   "outputs": [
    {
     "data": {
      "text/plain": [
       "array([0.00486171, 0.01571633, 0.04578785, 0.17419203, 0.24654432,\n",
       "       0.26630523, 0.33229031, 0.34401537, 0.42362021, 0.44441359,\n",
       "       0.47171715, 0.50538802, 0.51880086, 0.58699806, 0.78106762,\n",
       "       0.84025334, 0.8704096 , 0.93495251, 0.97604734, 1.03219938,\n",
       "       1.05305494, 1.10807208, 1.1229825 , 1.1448597 , 1.26605458,\n",
       "       1.33812655, 1.3882803 , 1.49870623, 1.55378678, 1.63992005,\n",
       "       1.67672151, 1.68329745, 1.73668443, 1.7994791 , 1.85793778,\n",
       "       1.8959761 , 1.93227305, 2.04152587, 2.06523639, 2.08566186,\n",
       "       2.11402753, 2.15639552, 2.20254492, 2.23732949, 2.31626959,\n",
       "       2.36494984, 2.39701878, 2.4573292 , 2.52125432, 2.6067328 ,\n",
       "       3.02134796, 3.25333707])"
      ]
     },
     "execution_count": 25,
     "metadata": {},
     "output_type": "execute_result"
    }
   ],
   "source": [
    "d.T"
   ]
  },
  {
   "cell_type": "code",
   "execution_count": 26,
   "id": "98ba4c8c",
   "metadata": {},
   "outputs": [],
   "source": [
    "T = d.T*d"
   ]
  },
  {
   "cell_type": "code",
   "execution_count": 27,
   "id": "b965f49a",
   "metadata": {},
   "outputs": [
    {
     "data": {
      "text/plain": [
       "array([2.36362479e-05, 2.47003176e-04, 2.09652730e-03, 3.03428627e-02,\n",
       "       6.07841032e-02, 7.09184756e-02, 1.10416851e-01, 1.18346573e-01,\n",
       "       1.79454078e-01, 1.97503435e-01, 2.22517065e-01, 2.55417055e-01,\n",
       "       2.69154333e-01, 3.44566728e-01, 6.10066631e-01, 7.06025681e-01,\n",
       "       7.57612871e-01, 8.74136203e-01, 9.52668409e-01, 1.06543556e+00,\n",
       "       1.10892472e+00, 1.22782375e+00, 1.26108969e+00, 1.31070373e+00,\n",
       "       1.60289421e+00, 1.79058267e+00, 1.92732220e+00, 2.24612037e+00,\n",
       "       2.41425336e+00, 2.68933777e+00, 2.81139501e+00, 2.83349032e+00,\n",
       "       3.01607282e+00, 3.23812502e+00, 3.45193279e+00, 3.59472537e+00,\n",
       "       3.73367912e+00, 4.16782787e+00, 4.26520134e+00, 4.34998537e+00,\n",
       "       4.46911241e+00, 4.65004162e+00, 4.85120412e+00, 5.00564323e+00,\n",
       "       5.36510481e+00, 5.59298776e+00, 5.74569902e+00, 6.03846682e+00,\n",
       "       6.35672335e+00, 6.79505587e+00, 9.12854347e+00, 1.05842021e+01])"
      ]
     },
     "execution_count": 27,
     "metadata": {},
     "output_type": "execute_result"
    }
   ],
   "source": [
    "T"
   ]
  },
  {
   "cell_type": "code",
   "execution_count": 28,
   "id": "c49717f8",
   "metadata": {},
   "outputs": [
    {
     "data": {
      "text/plain": [
       "(52,)"
      ]
     },
     "execution_count": 28,
     "metadata": {},
     "output_type": "execute_result"
    }
   ],
   "source": [
    "T.shape"
   ]
  }
 ],
 "metadata": {
  "kernelspec": {
   "display_name": "Python 3 (ipykernel)",
   "language": "python",
   "name": "python3"
  },
  "language_info": {
   "codemirror_mode": {
    "name": "ipython",
    "version": 3
   },
   "file_extension": ".py",
   "mimetype": "text/x-python",
   "name": "python",
   "nbconvert_exporter": "python",
   "pygments_lexer": "ipython3",
   "version": "3.9.6"
  }
 },
 "nbformat": 4,
 "nbformat_minor": 5
}
