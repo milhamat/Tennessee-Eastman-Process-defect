{
 "cells": [
  {
   "cell_type": "markdown",
   "id": "55981d6d",
   "metadata": {},
   "source": [
    "so the MinMax Normalization doesn't have produce any negative value and also this expaeriment are intended for proving that the MinMax Normalization are non produce any negative value with the normalization result"
   ]
  },
  {
   "cell_type": "code",
   "execution_count": 1,
   "id": "fae225c2",
   "metadata": {},
   "outputs": [],
   "source": [
    "import pandas as pd\n",
    "import matplotlib.pyplot as plt\n",
    "%matplotlib inline"
   ]
  },
  {
   "cell_type": "code",
   "execution_count": 2,
   "id": "e6c03708",
   "metadata": {},
   "outputs": [],
   "source": [
    "train_normal = pd.read_csv('./data/normal_training.csv')"
   ]
  },
  {
   "cell_type": "code",
   "execution_count": 3,
   "id": "cd8232a7",
   "metadata": {},
   "outputs": [],
   "source": [
    "import numpy as np\n",
    "import sklearn.preprocessing"
   ]
  },
  {
   "cell_type": "code",
   "execution_count": 4,
   "id": "2e1be636",
   "metadata": {},
   "outputs": [],
   "source": [
    "df_train = train_normal[train_normal.simulationRun==1].iloc[:,3:]"
   ]
  },
  {
   "cell_type": "code",
   "execution_count": 5,
   "id": "0f230eb5",
   "metadata": {},
   "outputs": [],
   "source": [
    "scaler = sklearn.preprocessing.MinMaxScaler()"
   ]
  },
  {
   "cell_type": "code",
   "execution_count": 6,
   "id": "02af3898",
   "metadata": {},
   "outputs": [
    {
     "data": {
      "text/plain": [
       "MinMaxScaler(copy=True, feature_range=(0, 1))"
      ]
     },
     "execution_count": 6,
     "metadata": {},
     "output_type": "execute_result"
    }
   ],
   "source": [
    "scaler"
   ]
  },
  {
   "cell_type": "code",
   "execution_count": 7,
   "id": "b5777f5f",
   "metadata": {},
   "outputs": [],
   "source": [
    "fit_x = scaler.fit(df_train)"
   ]
  },
  {
   "cell_type": "code",
   "execution_count": 8,
   "id": "1000c241",
   "metadata": {},
   "outputs": [
    {
     "data": {
      "text/plain": [
       "MinMaxScaler(copy=True, feature_range=(0, 1))"
      ]
     },
     "execution_count": 8,
     "metadata": {},
     "output_type": "execute_result"
    }
   ],
   "source": [
    "fit_x"
   ]
  },
  {
   "cell_type": "code",
   "execution_count": 9,
   "id": "f7c30214",
   "metadata": {},
   "outputs": [],
   "source": [
    "X_train = scaler.transform(df_train)"
   ]
  },
  {
   "cell_type": "code",
   "execution_count": 10,
   "id": "9396ea64",
   "metadata": {
    "scrolled": true
   },
   "outputs": [
    {
     "data": {
      "text/plain": [
       "array([[0.50286011, 0.51996198, 0.60356975, ..., 0.2399752 , 0.50752434,\n",
       "        0.5415377 ],\n",
       "       [0.5069625 , 0.45057034, 0.73320808, ..., 0.23139727, 0.53732665,\n",
       "        0.38640584],\n",
       "       [0.50286011, 0.45484791, 0.36308126, ..., 0.23563456, 0.49011508,\n",
       "        0.79943048],\n",
       "       ...,\n",
       "       [0.38903334, 0.43631179, 0.43447628, ..., 0.50744109, 0.51313072,\n",
       "        0.525195  ],\n",
       "       [0.45808055, 0.32271863, 0.56834194, ..., 0.52955767, 0.30067867,\n",
       "        0.63451777],\n",
       "       [0.44045762, 0.30941065, 0.77876938, ..., 0.57255064, 0.47418117,\n",
       "        0.61359416]])"
      ]
     },
     "execution_count": 10,
     "metadata": {},
     "output_type": "execute_result"
    }
   ],
   "source": [
    "X_train"
   ]
  },
  {
   "cell_type": "code",
   "execution_count": 11,
   "id": "25a14f10",
   "metadata": {},
   "outputs": [
    {
     "data": {
      "text/plain": [
       "(500, 52)"
      ]
     },
     "execution_count": 11,
     "metadata": {},
     "output_type": "execute_result"
    }
   ],
   "source": [
    "X_train.shape"
   ]
  },
  {
   "cell_type": "code",
   "execution_count": 12,
   "id": "feed5356",
   "metadata": {},
   "outputs": [
    {
     "data": {
      "text/plain": [
       "numpy.ndarray"
      ]
     },
     "execution_count": 12,
     "metadata": {},
     "output_type": "execute_result"
    }
   ],
   "source": [
    "type(X_train)"
   ]
  },
  {
   "cell_type": "code",
   "execution_count": 17,
   "id": "a38b0555",
   "metadata": {},
   "outputs": [
    {
     "name": "stdout",
     "output_type": "stream",
     "text": [
      "0\n"
     ]
    }
   ],
   "source": [
    "cnt = 0\n",
    "for n in range(51):\n",
    "    for x in X_train[n]:\n",
    "        if x < 0.0:\n",
    "            cnt+=1\n",
    "print(cnt)"
   ]
  },
  {
   "cell_type": "code",
   "execution_count": null,
   "id": "9cf73158",
   "metadata": {},
   "outputs": [],
   "source": []
  }
 ],
 "metadata": {
  "kernelspec": {
   "display_name": "Python 3",
   "language": "python",
   "name": "python3"
  },
  "language_info": {
   "codemirror_mode": {
    "name": "ipython",
    "version": 3
   },
   "file_extension": ".py",
   "mimetype": "text/x-python",
   "name": "python",
   "nbconvert_exporter": "python",
   "pygments_lexer": "ipython3",
   "version": "3.6.10"
  }
 },
 "nbformat": 4,
 "nbformat_minor": 5
}
