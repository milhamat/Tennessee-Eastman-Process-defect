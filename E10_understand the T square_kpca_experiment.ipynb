{
 "cells": [
  {
   "cell_type": "code",
   "execution_count": 1,
   "id": "78fe4589",
   "metadata": {},
   "outputs": [],
   "source": [
    "import pandas as pd\n",
    "import numpy as np\n",
    "import matplotlib.pyplot as plt\n",
    "import seaborn as sns\n",
    "from sklearn.decomposition import KernelPCA\n",
    "%matplotlib inline"
   ]
  },
  {
   "cell_type": "code",
   "execution_count": 2,
   "id": "ccebe7ec",
   "metadata": {},
   "outputs": [],
   "source": [
    "train_normal = pd.read_csv('./data/normal_training.csv')"
   ]
  },
  {
   "cell_type": "code",
   "execution_count": 3,
   "id": "2d496c37",
   "metadata": {},
   "outputs": [],
   "source": [
    "test_faulty = pd.read_csv('./data/faulty_testing.csv')"
   ]
  },
  {
   "cell_type": "code",
   "execution_count": 4,
   "id": "5b2fa46f",
   "metadata": {},
   "outputs": [],
   "source": [
    "df_train = train_normal[(train_normal.simulationRun>=1)&\n",
    "                                 (train_normal.simulationRun<5)].iloc[:,3:]\n",
    "\n",
    "df_test = train_normal[(train_normal.simulationRun>5)&\n",
    "                                (train_normal.simulationRun<10)].iloc[:,3:]"
   ]
  },
  {
   "cell_type": "markdown",
   "id": "114d11c2",
   "metadata": {},
   "source": [
    "### Train"
   ]
  },
  {
   "cell_type": "code",
   "execution_count": 5,
   "id": "e1625cb7",
   "metadata": {},
   "outputs": [],
   "source": [
    "# the mean and std\n",
    "mu_train = df_train.mean(axis=0)\n",
    "std_train = df_train.std(axis=0)"
   ]
  },
  {
   "cell_type": "code",
   "execution_count": 6,
   "id": "71290934",
   "metadata": {},
   "outputs": [],
   "source": [
    "# normalizing training data\n",
    "X = np.array(((df_train - mu_train)/std_train))"
   ]
  },
  {
   "cell_type": "code",
   "execution_count": 7,
   "id": "1fdf05d4",
   "metadata": {},
   "outputs": [
    {
     "data": {
      "text/plain": [
       "(2000, 52)"
      ]
     },
     "execution_count": 7,
     "metadata": {},
     "output_type": "execute_result"
    }
   ],
   "source": [
    "X.shape"
   ]
  },
  {
   "cell_type": "code",
   "execution_count": 8,
   "id": "8edca9c3",
   "metadata": {},
   "outputs": [],
   "source": [
    "kpca = KernelPCA() \n",
    "kpcat = kpca.fit_transform(X)"
   ]
  },
  {
   "cell_type": "code",
   "execution_count": 9,
   "id": "42134e15",
   "metadata": {},
   "outputs": [
    {
     "data": {
      "text/plain": [
       "(2000, 52)"
      ]
     },
     "execution_count": 9,
     "metadata": {},
     "output_type": "execute_result"
    }
   ],
   "source": [
    "kpcat.shape"
   ]
  },
  {
   "cell_type": "code",
   "execution_count": 10,
   "id": "113886e9",
   "metadata": {},
   "outputs": [],
   "source": [
    "L = kpca.eigenvalues_"
   ]
  },
  {
   "cell_type": "code",
   "execution_count": 11,
   "id": "115b8d4c",
   "metadata": {},
   "outputs": [
    {
     "data": {
      "text/plain": [
       "(52,)"
      ]
     },
     "execution_count": 11,
     "metadata": {},
     "output_type": "execute_result"
    }
   ],
   "source": [
    "L.shape"
   ]
  },
  {
   "cell_type": "code",
   "execution_count": 12,
   "id": "63897508",
   "metadata": {},
   "outputs": [],
   "source": [
    "P = kpca.eigenvectors_.T"
   ]
  },
  {
   "cell_type": "code",
   "execution_count": 13,
   "id": "d764c24e",
   "metadata": {},
   "outputs": [
    {
     "data": {
      "text/plain": [
       "(52, 2000)"
      ]
     },
     "execution_count": 13,
     "metadata": {},
     "output_type": "execute_result"
    }
   ],
   "source": [
    "P.shape"
   ]
  },
  {
   "cell_type": "code",
   "execution_count": 14,
   "id": "53a867b0",
   "metadata": {},
   "outputs": [],
   "source": [
    "conf_T2 = 0.99"
   ]
  },
  {
   "cell_type": "code",
   "execution_count": 22,
   "id": "5abb4ca5",
   "metadata": {},
   "outputs": [],
   "source": [
    "# limit of the T^2 statistic\n",
    "from scipy.stats import f\n",
    "F = f.ppf(conf_T2, 30, X.shape[0]-30)"
   ]
  },
  {
   "cell_type": "code",
   "execution_count": 23,
   "id": "45e969a7",
   "metadata": {},
   "outputs": [],
   "source": [
    "T2_lim = ((30*(X.shape[0]**2-1))/(X.shape[0]*(X.shape[0]-30)))*F"
   ]
  },
  {
   "cell_type": "markdown",
   "id": "89c824d1",
   "metadata": {},
   "source": [
    "### Test"
   ]
  },
  {
   "cell_type": "code",
   "execution_count": 17,
   "id": "01a22bcb",
   "metadata": {},
   "outputs": [],
   "source": [
    "IDV = 1\n",
    "df_test = test_faulty[(test_faulty.faultNumber==IDV) & \n",
    "                               (test_faulty.simulationRun==1)].iloc[:,3:]"
   ]
  },
  {
   "cell_type": "code",
   "execution_count": 18,
   "id": "edb6e3da",
   "metadata": {},
   "outputs": [],
   "source": [
    "Xt = np.array((df_test - mu_train)/std_train)"
   ]
  },
  {
   "cell_type": "code",
   "execution_count": 19,
   "id": "9f4cca71",
   "metadata": {},
   "outputs": [
    {
     "data": {
      "text/plain": [
       "(960, 52)"
      ]
     },
     "execution_count": 19,
     "metadata": {},
     "output_type": "execute_result"
    }
   ],
   "source": [
    "Xt.shape"
   ]
  },
  {
   "cell_type": "code",
   "execution_count": 20,
   "id": "eb5a7d28",
   "metadata": {},
   "outputs": [
    {
     "data": {
      "text/plain": [
       "array([[-6.20769948e-05, -7.61391924e-04,  7.57745152e-04, ...,\n",
       "         1.78223809e-02,  2.39561614e-02,  2.28408337e-02],\n",
       "       [-4.65880913e-03,  7.21150055e-04, -6.01273347e-04, ...,\n",
       "        -3.33695021e-04,  2.22174848e-03,  2.97980204e-03],\n",
       "       [ 8.58241009e-04, -9.23134036e-03, -1.17745970e-02, ...,\n",
       "         2.30615950e-02,  6.82544410e-03,  1.50406119e-02],\n",
       "       ...,\n",
       "       [ 5.53672185e-03,  4.81433502e-03, -1.24390158e-02, ...,\n",
       "         2.34059981e-02,  4.10398486e-02,  3.35663080e-02],\n",
       "       [ 3.05457324e-02,  1.56026507e-03,  2.92493357e-02, ...,\n",
       "         1.64957748e-02,  3.19910137e-02,  1.44186629e-02],\n",
       "       [ 7.36538976e-03, -2.03821522e-02, -2.22145646e-02, ...,\n",
       "         1.58277009e-02,  2.98979380e-02, -4.86720506e-03]])"
      ]
     },
     "execution_count": 20,
     "metadata": {},
     "output_type": "execute_result"
    }
   ],
   "source": [
    "P[:,:52]"
   ]
  },
  {
   "cell_type": "code",
   "execution_count": 21,
   "id": "0ee3e34c",
   "metadata": {},
   "outputs": [
    {
     "data": {
      "text/plain": [
       "(52, 30)"
      ]
     },
     "execution_count": 21,
     "metadata": {},
     "output_type": "execute_result"
    }
   ],
   "source": [
    "P[:,:30].shape"
   ]
  },
  {
   "cell_type": "code",
   "execution_count": 24,
   "id": "86cea1f4",
   "metadata": {},
   "outputs": [
    {
     "data": {
      "text/plain": [
       "(52, 52)"
      ]
     },
     "execution_count": 24,
     "metadata": {},
     "output_type": "execute_result"
    }
   ],
   "source": [
    "P[:,:52].shape"
   ]
  },
  {
   "cell_type": "code",
   "execution_count": 25,
   "id": "14780782",
   "metadata": {},
   "outputs": [],
   "source": [
    "T = Xt@P[:,:30]"
   ]
  },
  {
   "cell_type": "code",
   "execution_count": 26,
   "id": "86d991eb",
   "metadata": {},
   "outputs": [
    {
     "data": {
      "text/plain": [
       "(960, 30)"
      ]
     },
     "execution_count": 26,
     "metadata": {},
     "output_type": "execute_result"
    }
   ],
   "source": [
    "T.shape"
   ]
  },
  {
   "cell_type": "code",
   "execution_count": 27,
   "id": "d2faa2d1",
   "metadata": {},
   "outputs": [],
   "source": [
    "T2 = np.array([T[i,:]@np.linalg.inv(np.diag(L[:30]))@T[i,:].T for i in range (Xt.shape[0])])"
   ]
  },
  {
   "cell_type": "code",
   "execution_count": 28,
   "id": "af357b51",
   "metadata": {},
   "outputs": [
    {
     "data": {
      "text/plain": [
       "(960,)"
      ]
     },
     "execution_count": 28,
     "metadata": {},
     "output_type": "execute_result"
    }
   ],
   "source": [
    "T2.shape"
   ]
  },
  {
   "cell_type": "code",
   "execution_count": 29,
   "id": "7a5a0ee1",
   "metadata": {},
   "outputs": [
    {
     "data": {
      "image/png": "[encoded data removed]",
      "text/plain": [
       "<Figure size 432x288 with 1 Axes>"
      ]
     },
     "metadata": {
      "needs_background": "light"
     },
     "output_type": "display_data"
    }
   ],
   "source": [
    "plt.semilogy(T2,'.')\n",
    "plt.axhline(T2_lim,ls='--',c='r');"
   ]
  },
  {
   "cell_type": "code",
   "execution_count": 30,
   "id": "df4a2bac",
   "metadata": {},
   "outputs": [
    {
     "name": "stdout",
     "output_type": "stream",
     "text": [
      "T2: 0.0\n"
     ]
    }
   ],
   "source": [
    "print(f'T2: {(T2>T2_lim).sum()/T2.shape[0]}')"
   ]
  }
 ],
 "metadata": {
  "kernelspec": {
   "display_name": "Python 3 (ipykernel)",
   "language": "python",
   "name": "python3"
  },
  "language_info": {
   "codemirror_mode": {
    "name": "ipython",
    "version": 3
   },
   "file_extension": ".py",
   "mimetype": "text/x-python",
   "name": "python",
   "nbconvert_exporter": "python",
   "pygments_lexer": "ipython3",
   "version": "3.9.6"
  }
 },
 "nbformat": 4,
 "nbformat_minor": 5
}
