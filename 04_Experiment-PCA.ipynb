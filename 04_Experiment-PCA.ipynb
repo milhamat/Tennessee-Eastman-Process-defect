{
 "cells": [
  {
   "cell_type": "markdown",
   "id": "a73d58a3",
   "metadata": {},
   "source": [
    "**Description :** so in this experiment actually i want to apply the Principal Component Analysis in the Tennesse Eastman Dataset"
   ]
  },
  {
   "cell_type": "code",
   "execution_count": 31,
   "id": "5f8e0c8f",
   "metadata": {},
   "outputs": [],
   "source": [
    "import pyreadr\n",
    "import numpy as np\n",
    "import pandas as pd\n",
    "import seaborn as sns\n",
    "import matplotlib.pyplot as plt\n",
    "\n",
    "%matplotlib inline"
   ]
  },
  {
   "cell_type": "code",
   "execution_count": 2,
   "id": "6cb50a45",
   "metadata": {},
   "outputs": [],
   "source": [
    "path = './data/'\n",
    "\n",
    "train_normal_path = 'TEP_FaultFree_Training.RData'\n",
    "\n",
    "train_normal_complete = pyreadr.read_r(path + train_normal_path)['fault_free_training']"
   ]
  },
  {
   "cell_type": "code",
   "execution_count": 3,
   "id": "1353b95e",
   "metadata": {},
   "outputs": [
    {
     "data": {
      "text/html": [
       "<div>\n",
       "<style scoped>\n",
       "    .dataframe tbody tr th:only-of-type {\n",
       "        vertical-align: middle;\n",
       "    }\n",
       "\n",
       "    .dataframe tbody tr th {\n",
       "        vertical-align: top;\n",
       "    }\n",
       "\n",
       "    .dataframe thead th {\n",
       "        text-align: right;\n",
       "    }\n",
       "</style>\n",
       "<table border=\"1\" class=\"dataframe\">\n",
       "  <thead>\n",
       "    <tr style=\"text-align: right;\">\n",
       "      <th></th>\n",
       "      <th>faultNumber</th>\n",
       "      <th>simulationRun</th>\n",
       "      <th>sample</th>\n",
       "      <th>xmeas_1</th>\n",
       "      <th>xmeas_2</th>\n",
       "      <th>xmeas_3</th>\n",
       "      <th>xmeas_4</th>\n",
       "      <th>xmeas_5</th>\n",
       "      <th>xmeas_6</th>\n",
       "      <th>xmeas_7</th>\n",
       "      <th>...</th>\n",
       "      <th>xmv_2</th>\n",
       "      <th>xmv_3</th>\n",
       "      <th>xmv_4</th>\n",
       "      <th>xmv_5</th>\n",
       "      <th>xmv_6</th>\n",
       "      <th>xmv_7</th>\n",
       "      <th>xmv_8</th>\n",
       "      <th>xmv_9</th>\n",
       "      <th>xmv_10</th>\n",
       "      <th>xmv_11</th>\n",
       "    </tr>\n",
       "  </thead>\n",
       "  <tbody>\n",
       "    <tr>\n",
       "      <th>0</th>\n",
       "      <td>0.0</td>\n",
       "      <td>1.0</td>\n",
       "      <td>1</td>\n",
       "      <td>0.25038</td>\n",
       "      <td>3674.0</td>\n",
       "      <td>4529.0</td>\n",
       "      <td>9.2320</td>\n",
       "      <td>26.889</td>\n",
       "      <td>42.402</td>\n",
       "      <td>2704.3</td>\n",
       "      <td>...</td>\n",
       "      <td>53.744</td>\n",
       "      <td>24.657</td>\n",
       "      <td>62.544</td>\n",
       "      <td>22.137</td>\n",
       "      <td>39.935</td>\n",
       "      <td>42.323</td>\n",
       "      <td>47.757</td>\n",
       "      <td>47.510</td>\n",
       "      <td>41.258</td>\n",
       "      <td>18.447</td>\n",
       "    </tr>\n",
       "    <tr>\n",
       "      <th>1</th>\n",
       "      <td>0.0</td>\n",
       "      <td>1.0</td>\n",
       "      <td>2</td>\n",
       "      <td>0.25109</td>\n",
       "      <td>3659.4</td>\n",
       "      <td>4556.6</td>\n",
       "      <td>9.4264</td>\n",
       "      <td>26.721</td>\n",
       "      <td>42.576</td>\n",
       "      <td>2705.0</td>\n",
       "      <td>...</td>\n",
       "      <td>53.414</td>\n",
       "      <td>24.588</td>\n",
       "      <td>59.259</td>\n",
       "      <td>22.084</td>\n",
       "      <td>40.176</td>\n",
       "      <td>38.554</td>\n",
       "      <td>43.692</td>\n",
       "      <td>47.427</td>\n",
       "      <td>41.359</td>\n",
       "      <td>17.194</td>\n",
       "    </tr>\n",
       "    <tr>\n",
       "      <th>2</th>\n",
       "      <td>0.0</td>\n",
       "      <td>1.0</td>\n",
       "      <td>3</td>\n",
       "      <td>0.25038</td>\n",
       "      <td>3660.3</td>\n",
       "      <td>4477.8</td>\n",
       "      <td>9.4426</td>\n",
       "      <td>26.875</td>\n",
       "      <td>42.070</td>\n",
       "      <td>2706.2</td>\n",
       "      <td>...</td>\n",
       "      <td>54.357</td>\n",
       "      <td>24.666</td>\n",
       "      <td>61.275</td>\n",
       "      <td>22.380</td>\n",
       "      <td>40.244</td>\n",
       "      <td>38.990</td>\n",
       "      <td>46.699</td>\n",
       "      <td>47.468</td>\n",
       "      <td>41.199</td>\n",
       "      <td>20.530</td>\n",
       "    </tr>\n",
       "    <tr>\n",
       "      <th>3</th>\n",
       "      <td>0.0</td>\n",
       "      <td>1.0</td>\n",
       "      <td>4</td>\n",
       "      <td>0.24977</td>\n",
       "      <td>3661.3</td>\n",
       "      <td>4512.1</td>\n",
       "      <td>9.4776</td>\n",
       "      <td>26.758</td>\n",
       "      <td>42.063</td>\n",
       "      <td>2707.2</td>\n",
       "      <td>...</td>\n",
       "      <td>53.946</td>\n",
       "      <td>24.725</td>\n",
       "      <td>59.856</td>\n",
       "      <td>22.277</td>\n",
       "      <td>40.257</td>\n",
       "      <td>38.072</td>\n",
       "      <td>47.541</td>\n",
       "      <td>47.658</td>\n",
       "      <td>41.643</td>\n",
       "      <td>18.089</td>\n",
       "    </tr>\n",
       "    <tr>\n",
       "      <th>4</th>\n",
       "      <td>0.0</td>\n",
       "      <td>1.0</td>\n",
       "      <td>5</td>\n",
       "      <td>0.29405</td>\n",
       "      <td>3679.0</td>\n",
       "      <td>4497.0</td>\n",
       "      <td>9.3381</td>\n",
       "      <td>26.889</td>\n",
       "      <td>42.650</td>\n",
       "      <td>2705.1</td>\n",
       "      <td>...</td>\n",
       "      <td>53.658</td>\n",
       "      <td>28.797</td>\n",
       "      <td>60.717</td>\n",
       "      <td>21.947</td>\n",
       "      <td>39.144</td>\n",
       "      <td>41.955</td>\n",
       "      <td>47.645</td>\n",
       "      <td>47.346</td>\n",
       "      <td>41.507</td>\n",
       "      <td>18.461</td>\n",
       "    </tr>\n",
       "  </tbody>\n",
       "</table>\n",
       "<p>5 rows × 55 columns</p>\n",
       "</div>"
      ],
      "text/plain": [
       "   faultNumber  simulationRun  sample  xmeas_1  xmeas_2  xmeas_3  xmeas_4  \\\n",
       "0          0.0            1.0       1  0.25038   3674.0   4529.0   9.2320   \n",
       "1          0.0            1.0       2  0.25109   3659.4   4556.6   9.4264   \n",
       "2          0.0            1.0       3  0.25038   3660.3   4477.8   9.4426   \n",
       "3          0.0            1.0       4  0.24977   3661.3   4512.1   9.4776   \n",
       "4          0.0            1.0       5  0.29405   3679.0   4497.0   9.3381   \n",
       "\n",
       "   xmeas_5  xmeas_6  xmeas_7  ...   xmv_2   xmv_3   xmv_4   xmv_5   xmv_6  \\\n",
       "0   26.889   42.402   2704.3  ...  53.744  24.657  62.544  22.137  39.935   \n",
       "1   26.721   42.576   2705.0  ...  53.414  24.588  59.259  22.084  40.176   \n",
       "2   26.875   42.070   2706.2  ...  54.357  24.666  61.275  22.380  40.244   \n",
       "3   26.758   42.063   2707.2  ...  53.946  24.725  59.856  22.277  40.257   \n",
       "4   26.889   42.650   2705.1  ...  53.658  28.797  60.717  21.947  39.144   \n",
       "\n",
       "    xmv_7   xmv_8   xmv_9  xmv_10  xmv_11  \n",
       "0  42.323  47.757  47.510  41.258  18.447  \n",
       "1  38.554  43.692  47.427  41.359  17.194  \n",
       "2  38.990  46.699  47.468  41.199  20.530  \n",
       "3  38.072  47.541  47.658  41.643  18.089  \n",
       "4  41.955  47.645  47.346  41.507  18.461  \n",
       "\n",
       "[5 rows x 55 columns]"
      ]
     },
     "execution_count": 3,
     "metadata": {},
     "output_type": "execute_result"
    }
   ],
   "source": [
    "train_normal_complete.head()"
   ]
  },
  {
   "cell_type": "code",
   "execution_count": 4,
   "id": "915ab35a",
   "metadata": {},
   "outputs": [],
   "source": [
    "# drop the first column index\n",
    "df_train = train_normal_complete[train_normal_complete.simulationRun==1].iloc[:,3:]"
   ]
  },
  {
   "cell_type": "code",
   "execution_count": 5,
   "id": "52ef814a",
   "metadata": {},
   "outputs": [
    {
     "data": {
      "text/html": [
       "<div>\n",
       "<style scoped>\n",
       "    .dataframe tbody tr th:only-of-type {\n",
       "        vertical-align: middle;\n",
       "    }\n",
       "\n",
       "    .dataframe tbody tr th {\n",
       "        vertical-align: top;\n",
       "    }\n",
       "\n",
       "    .dataframe thead th {\n",
       "        text-align: right;\n",
       "    }\n",
       "</style>\n",
       "<table border=\"1\" class=\"dataframe\">\n",
       "  <thead>\n",
       "    <tr style=\"text-align: right;\">\n",
       "      <th></th>\n",
       "      <th>xmeas_1</th>\n",
       "      <th>xmeas_2</th>\n",
       "      <th>xmeas_3</th>\n",
       "      <th>xmeas_4</th>\n",
       "      <th>xmeas_5</th>\n",
       "      <th>xmeas_6</th>\n",
       "      <th>xmeas_7</th>\n",
       "      <th>xmeas_8</th>\n",
       "      <th>xmeas_9</th>\n",
       "      <th>xmeas_10</th>\n",
       "      <th>...</th>\n",
       "      <th>xmv_2</th>\n",
       "      <th>xmv_3</th>\n",
       "      <th>xmv_4</th>\n",
       "      <th>xmv_5</th>\n",
       "      <th>xmv_6</th>\n",
       "      <th>xmv_7</th>\n",
       "      <th>xmv_8</th>\n",
       "      <th>xmv_9</th>\n",
       "      <th>xmv_10</th>\n",
       "      <th>xmv_11</th>\n",
       "    </tr>\n",
       "  </thead>\n",
       "  <tbody>\n",
       "    <tr>\n",
       "      <th>0</th>\n",
       "      <td>0.25038</td>\n",
       "      <td>3674.0</td>\n",
       "      <td>4529.0</td>\n",
       "      <td>9.2320</td>\n",
       "      <td>26.889</td>\n",
       "      <td>42.402</td>\n",
       "      <td>2704.3</td>\n",
       "      <td>74.863</td>\n",
       "      <td>120.41</td>\n",
       "      <td>0.33818</td>\n",
       "      <td>...</td>\n",
       "      <td>53.744</td>\n",
       "      <td>24.657</td>\n",
       "      <td>62.544</td>\n",
       "      <td>22.137</td>\n",
       "      <td>39.935</td>\n",
       "      <td>42.323</td>\n",
       "      <td>47.757</td>\n",
       "      <td>47.510</td>\n",
       "      <td>41.258</td>\n",
       "      <td>18.447</td>\n",
       "    </tr>\n",
       "    <tr>\n",
       "      <th>1</th>\n",
       "      <td>0.25109</td>\n",
       "      <td>3659.4</td>\n",
       "      <td>4556.6</td>\n",
       "      <td>9.4264</td>\n",
       "      <td>26.721</td>\n",
       "      <td>42.576</td>\n",
       "      <td>2705.0</td>\n",
       "      <td>75.000</td>\n",
       "      <td>120.41</td>\n",
       "      <td>0.33620</td>\n",
       "      <td>...</td>\n",
       "      <td>53.414</td>\n",
       "      <td>24.588</td>\n",
       "      <td>59.259</td>\n",
       "      <td>22.084</td>\n",
       "      <td>40.176</td>\n",
       "      <td>38.554</td>\n",
       "      <td>43.692</td>\n",
       "      <td>47.427</td>\n",
       "      <td>41.359</td>\n",
       "      <td>17.194</td>\n",
       "    </tr>\n",
       "    <tr>\n",
       "      <th>2</th>\n",
       "      <td>0.25038</td>\n",
       "      <td>3660.3</td>\n",
       "      <td>4477.8</td>\n",
       "      <td>9.4426</td>\n",
       "      <td>26.875</td>\n",
       "      <td>42.070</td>\n",
       "      <td>2706.2</td>\n",
       "      <td>74.771</td>\n",
       "      <td>120.42</td>\n",
       "      <td>0.33563</td>\n",
       "      <td>...</td>\n",
       "      <td>54.357</td>\n",
       "      <td>24.666</td>\n",
       "      <td>61.275</td>\n",
       "      <td>22.380</td>\n",
       "      <td>40.244</td>\n",
       "      <td>38.990</td>\n",
       "      <td>46.699</td>\n",
       "      <td>47.468</td>\n",
       "      <td>41.199</td>\n",
       "      <td>20.530</td>\n",
       "    </tr>\n",
       "    <tr>\n",
       "      <th>3</th>\n",
       "      <td>0.24977</td>\n",
       "      <td>3661.3</td>\n",
       "      <td>4512.1</td>\n",
       "      <td>9.4776</td>\n",
       "      <td>26.758</td>\n",
       "      <td>42.063</td>\n",
       "      <td>2707.2</td>\n",
       "      <td>75.224</td>\n",
       "      <td>120.39</td>\n",
       "      <td>0.33553</td>\n",
       "      <td>...</td>\n",
       "      <td>53.946</td>\n",
       "      <td>24.725</td>\n",
       "      <td>59.856</td>\n",
       "      <td>22.277</td>\n",
       "      <td>40.257</td>\n",
       "      <td>38.072</td>\n",
       "      <td>47.541</td>\n",
       "      <td>47.658</td>\n",
       "      <td>41.643</td>\n",
       "      <td>18.089</td>\n",
       "    </tr>\n",
       "    <tr>\n",
       "      <th>4</th>\n",
       "      <td>0.29405</td>\n",
       "      <td>3679.0</td>\n",
       "      <td>4497.0</td>\n",
       "      <td>9.3381</td>\n",
       "      <td>26.889</td>\n",
       "      <td>42.650</td>\n",
       "      <td>2705.1</td>\n",
       "      <td>75.388</td>\n",
       "      <td>120.39</td>\n",
       "      <td>0.32632</td>\n",
       "      <td>...</td>\n",
       "      <td>53.658</td>\n",
       "      <td>28.797</td>\n",
       "      <td>60.717</td>\n",
       "      <td>21.947</td>\n",
       "      <td>39.144</td>\n",
       "      <td>41.955</td>\n",
       "      <td>47.645</td>\n",
       "      <td>47.346</td>\n",
       "      <td>41.507</td>\n",
       "      <td>18.461</td>\n",
       "    </tr>\n",
       "  </tbody>\n",
       "</table>\n",
       "<p>5 rows × 52 columns</p>\n",
       "</div>"
      ],
      "text/plain": [
       "   xmeas_1  xmeas_2  xmeas_3  xmeas_4  xmeas_5  xmeas_6  xmeas_7  xmeas_8  \\\n",
       "0  0.25038   3674.0   4529.0   9.2320   26.889   42.402   2704.3   74.863   \n",
       "1  0.25109   3659.4   4556.6   9.4264   26.721   42.576   2705.0   75.000   \n",
       "2  0.25038   3660.3   4477.8   9.4426   26.875   42.070   2706.2   74.771   \n",
       "3  0.24977   3661.3   4512.1   9.4776   26.758   42.063   2707.2   75.224   \n",
       "4  0.29405   3679.0   4497.0   9.3381   26.889   42.650   2705.1   75.388   \n",
       "\n",
       "   xmeas_9  xmeas_10  ...   xmv_2   xmv_3   xmv_4   xmv_5   xmv_6   xmv_7  \\\n",
       "0   120.41   0.33818  ...  53.744  24.657  62.544  22.137  39.935  42.323   \n",
       "1   120.41   0.33620  ...  53.414  24.588  59.259  22.084  40.176  38.554   \n",
       "2   120.42   0.33563  ...  54.357  24.666  61.275  22.380  40.244  38.990   \n",
       "3   120.39   0.33553  ...  53.946  24.725  59.856  22.277  40.257  38.072   \n",
       "4   120.39   0.32632  ...  53.658  28.797  60.717  21.947  39.144  41.955   \n",
       "\n",
       "    xmv_8   xmv_9  xmv_10  xmv_11  \n",
       "0  47.757  47.510  41.258  18.447  \n",
       "1  43.692  47.427  41.359  17.194  \n",
       "2  46.699  47.468  41.199  20.530  \n",
       "3  47.541  47.658  41.643  18.089  \n",
       "4  47.645  47.346  41.507  18.461  \n",
       "\n",
       "[5 rows x 52 columns]"
      ]
     },
     "execution_count": 5,
     "metadata": {},
     "output_type": "execute_result"
    }
   ],
   "source": [
    "df_train.head()"
   ]
  },
  {
   "cell_type": "code",
   "execution_count": 6,
   "id": "458ec6a9",
   "metadata": {},
   "outputs": [
    {
     "name": "stdout",
     "output_type": "stream",
     "text": [
      "<class 'pandas.core.frame.DataFrame'>\n",
      "Int64Index: 500 entries, 0 to 499\n",
      "Data columns (total 52 columns):\n",
      "xmeas_1     500 non-null float64\n",
      "xmeas_2     500 non-null float64\n",
      "xmeas_3     500 non-null float64\n",
      "xmeas_4     500 non-null float64\n",
      "xmeas_5     500 non-null float64\n",
      "xmeas_6     500 non-null float64\n",
      "xmeas_7     500 non-null float64\n",
      "xmeas_8     500 non-null float64\n",
      "xmeas_9     500 non-null float64\n",
      "xmeas_10    500 non-null float64\n",
      "xmeas_11    500 non-null float64\n",
      "xmeas_12    500 non-null float64\n",
      "xmeas_13    500 non-null float64\n",
      "xmeas_14    500 non-null float64\n",
      "xmeas_15    500 non-null float64\n",
      "xmeas_16    500 non-null float64\n",
      "xmeas_17    500 non-null float64\n",
      "xmeas_18    500 non-null float64\n",
      "xmeas_19    500 non-null float64\n",
      "xmeas_20    500 non-null float64\n",
      "xmeas_21    500 non-null float64\n",
      "xmeas_22    500 non-null float64\n",
      "xmeas_23    500 non-null float64\n",
      "xmeas_24    500 non-null float64\n",
      "xmeas_25    500 non-null float64\n",
      "xmeas_26    500 non-null float64\n",
      "xmeas_27    500 non-null float64\n",
      "xmeas_28    500 non-null float64\n",
      "xmeas_29    500 non-null float64\n",
      "xmeas_30    500 non-null float64\n",
      "xmeas_31    500 non-null float64\n",
      "xmeas_32    500 non-null float64\n",
      "xmeas_33    500 non-null float64\n",
      "xmeas_34    500 non-null float64\n",
      "xmeas_35    500 non-null float64\n",
      "xmeas_36    500 non-null float64\n",
      "xmeas_37    500 non-null float64\n",
      "xmeas_38    500 non-null float64\n",
      "xmeas_39    500 non-null float64\n",
      "xmeas_40    500 non-null float64\n",
      "xmeas_41    500 non-null float64\n",
      "xmv_1       500 non-null float64\n",
      "xmv_2       500 non-null float64\n",
      "xmv_3       500 non-null float64\n",
      "xmv_4       500 non-null float64\n",
      "xmv_5       500 non-null float64\n",
      "xmv_6       500 non-null float64\n",
      "xmv_7       500 non-null float64\n",
      "xmv_8       500 non-null float64\n",
      "xmv_9       500 non-null float64\n",
      "xmv_10      500 non-null float64\n",
      "xmv_11      500 non-null float64\n",
      "dtypes: float64(52)\n",
      "memory usage: 207.0 KB\n"
     ]
    }
   ],
   "source": [
    "df_train.info()"
   ]
  },
  {
   "cell_type": "markdown",
   "id": "0df69c05",
   "metadata": {},
   "source": [
    "## Scale the Data"
   ]
  },
  {
   "cell_type": "code",
   "execution_count": 7,
   "id": "7bbb6402",
   "metadata": {},
   "outputs": [],
   "source": [
    "# scaling the data\n",
    "from sklearn.preprocessing import StandardScaler\n",
    "\n",
    "x = StandardScaler()"
   ]
  },
  {
   "cell_type": "code",
   "execution_count": 9,
   "id": "1f247d7e",
   "metadata": {},
   "outputs": [],
   "source": [
    "x = x.fit_transform(df_train)"
   ]
  },
  {
   "cell_type": "code",
   "execution_count": 11,
   "id": "0e402944",
   "metadata": {},
   "outputs": [],
   "source": [
    "# put the data into pandas dataframe\n",
    "x = pd.DataFrame(x, columns=df_train.columns)"
   ]
  },
  {
   "cell_type": "code",
   "execution_count": 12,
   "id": "e893c25c",
   "metadata": {},
   "outputs": [
    {
     "data": {
      "text/html": [
       "<div>\n",
       "<style scoped>\n",
       "    .dataframe tbody tr th:only-of-type {\n",
       "        vertical-align: middle;\n",
       "    }\n",
       "\n",
       "    .dataframe tbody tr th {\n",
       "        vertical-align: top;\n",
       "    }\n",
       "\n",
       "    .dataframe thead th {\n",
       "        text-align: right;\n",
       "    }\n",
       "</style>\n",
       "<table border=\"1\" class=\"dataframe\">\n",
       "  <thead>\n",
       "    <tr style=\"text-align: right;\">\n",
       "      <th></th>\n",
       "      <th>xmeas_1</th>\n",
       "      <th>xmeas_2</th>\n",
       "      <th>xmeas_3</th>\n",
       "      <th>xmeas_4</th>\n",
       "      <th>xmeas_5</th>\n",
       "      <th>xmeas_6</th>\n",
       "      <th>xmeas_7</th>\n",
       "      <th>xmeas_8</th>\n",
       "      <th>xmeas_9</th>\n",
       "      <th>xmeas_10</th>\n",
       "      <th>...</th>\n",
       "      <th>xmv_2</th>\n",
       "      <th>xmv_3</th>\n",
       "      <th>xmv_4</th>\n",
       "      <th>xmv_5</th>\n",
       "      <th>xmv_6</th>\n",
       "      <th>xmv_7</th>\n",
       "      <th>xmv_8</th>\n",
       "      <th>xmv_9</th>\n",
       "      <th>xmv_10</th>\n",
       "      <th>xmv_11</th>\n",
       "    </tr>\n",
       "  </thead>\n",
       "  <tbody>\n",
       "    <tr>\n",
       "      <th>0</th>\n",
       "      <td>-0.007459</td>\n",
       "      <td>0.343859</td>\n",
       "      <td>0.502126</td>\n",
       "      <td>-1.431359</td>\n",
       "      <td>-0.084087</td>\n",
       "      <td>0.278542</td>\n",
       "      <td>-0.009557</td>\n",
       "      <td>-0.292773</td>\n",
       "      <td>0.510938</td>\n",
       "      <td>0.098431</td>\n",
       "      <td>...</td>\n",
       "      <td>-0.488936</td>\n",
       "      <td>0.000962</td>\n",
       "      <td>1.050090</td>\n",
       "      <td>-0.051818</td>\n",
       "      <td>-0.122736</td>\n",
       "      <td>1.319983</td>\n",
       "      <td>0.471559</td>\n",
       "      <td>-0.720571</td>\n",
       "      <td>0.279630</td>\n",
       "      <td>0.250397</td>\n",
       "    </tr>\n",
       "    <tr>\n",
       "      <th>1</th>\n",
       "      <td>0.017875</td>\n",
       "      <td>-0.103316</td>\n",
       "      <td>1.215653</td>\n",
       "      <td>1.035368</td>\n",
       "      <td>-0.866377</td>\n",
       "      <td>1.068875</td>\n",
       "      <td>0.107804</td>\n",
       "      <td>-0.032734</td>\n",
       "      <td>0.510938</td>\n",
       "      <td>-0.071378</td>\n",
       "      <td>...</td>\n",
       "      <td>-1.237481</td>\n",
       "      <td>-0.024152</td>\n",
       "      <td>-1.590601</td>\n",
       "      <td>-0.185906</td>\n",
       "      <td>0.049624</td>\n",
       "      <td>0.089123</td>\n",
       "      <td>-1.227605</td>\n",
       "      <td>-0.760505</td>\n",
       "      <td>0.460598</td>\n",
       "      <td>-0.634866</td>\n",
       "    </tr>\n",
       "    <tr>\n",
       "      <th>2</th>\n",
       "      <td>-0.007459</td>\n",
       "      <td>-0.075750</td>\n",
       "      <td>-0.821517</td>\n",
       "      <td>1.240929</td>\n",
       "      <td>-0.149278</td>\n",
       "      <td>-1.229449</td>\n",
       "      <td>0.308995</td>\n",
       "      <td>-0.467397</td>\n",
       "      <td>1.023929</td>\n",
       "      <td>-0.120262</td>\n",
       "      <td>...</td>\n",
       "      <td>0.901543</td>\n",
       "      <td>0.004238</td>\n",
       "      <td>0.029987</td>\n",
       "      <td>0.562959</td>\n",
       "      <td>0.098256</td>\n",
       "      <td>0.231510</td>\n",
       "      <td>0.029317</td>\n",
       "      <td>-0.740779</td>\n",
       "      <td>0.173916</td>\n",
       "      <td>1.722067</td>\n",
       "    </tr>\n",
       "    <tr>\n",
       "      <th>3</th>\n",
       "      <td>-0.029225</td>\n",
       "      <td>-0.045122</td>\n",
       "      <td>0.065220</td>\n",
       "      <td>1.685042</td>\n",
       "      <td>-0.694087</td>\n",
       "      <td>-1.261244</td>\n",
       "      <td>0.476653</td>\n",
       "      <td>0.392438</td>\n",
       "      <td>-0.515042</td>\n",
       "      <td>-0.128838</td>\n",
       "      <td>...</td>\n",
       "      <td>-0.030736</td>\n",
       "      <td>0.025713</td>\n",
       "      <td>-1.110695</td>\n",
       "      <td>0.302375</td>\n",
       "      <td>0.107554</td>\n",
       "      <td>-0.068286</td>\n",
       "      <td>0.381272</td>\n",
       "      <td>-0.649365</td>\n",
       "      <td>0.969458</td>\n",
       "      <td>-0.002535</td>\n",
       "    </tr>\n",
       "    <tr>\n",
       "      <th>4</th>\n",
       "      <td>1.550795</td>\n",
       "      <td>0.497001</td>\n",
       "      <td>-0.325151</td>\n",
       "      <td>-0.085064</td>\n",
       "      <td>-0.084087</td>\n",
       "      <td>1.404994</td>\n",
       "      <td>0.124570</td>\n",
       "      <td>0.703725</td>\n",
       "      <td>-0.515042</td>\n",
       "      <td>-0.918704</td>\n",
       "      <td>...</td>\n",
       "      <td>-0.684011</td>\n",
       "      <td>1.507821</td>\n",
       "      <td>-0.418568</td>\n",
       "      <td>-0.532509</td>\n",
       "      <td>-0.688446</td>\n",
       "      <td>1.199804</td>\n",
       "      <td>0.424744</td>\n",
       "      <td>-0.799476</td>\n",
       "      <td>0.725778</td>\n",
       "      <td>0.260288</td>\n",
       "    </tr>\n",
       "  </tbody>\n",
       "</table>\n",
       "<p>5 rows × 52 columns</p>\n",
       "</div>"
      ],
      "text/plain": [
       "    xmeas_1   xmeas_2   xmeas_3   xmeas_4   xmeas_5   xmeas_6   xmeas_7  \\\n",
       "0 -0.007459  0.343859  0.502126 -1.431359 -0.084087  0.278542 -0.009557   \n",
       "1  0.017875 -0.103316  1.215653  1.035368 -0.866377  1.068875  0.107804   \n",
       "2 -0.007459 -0.075750 -0.821517  1.240929 -0.149278 -1.229449  0.308995   \n",
       "3 -0.029225 -0.045122  0.065220  1.685042 -0.694087 -1.261244  0.476653   \n",
       "4  1.550795  0.497001 -0.325151 -0.085064 -0.084087  1.404994  0.124570   \n",
       "\n",
       "    xmeas_8   xmeas_9  xmeas_10  ...     xmv_2     xmv_3     xmv_4     xmv_5  \\\n",
       "0 -0.292773  0.510938  0.098431  ... -0.488936  0.000962  1.050090 -0.051818   \n",
       "1 -0.032734  0.510938 -0.071378  ... -1.237481 -0.024152 -1.590601 -0.185906   \n",
       "2 -0.467397  1.023929 -0.120262  ...  0.901543  0.004238  0.029987  0.562959   \n",
       "3  0.392438 -0.515042 -0.128838  ... -0.030736  0.025713 -1.110695  0.302375   \n",
       "4  0.703725 -0.515042 -0.918704  ... -0.684011  1.507821 -0.418568 -0.532509   \n",
       "\n",
       "      xmv_6     xmv_7     xmv_8     xmv_9    xmv_10    xmv_11  \n",
       "0 -0.122736  1.319983  0.471559 -0.720571  0.279630  0.250397  \n",
       "1  0.049624  0.089123 -1.227605 -0.760505  0.460598 -0.634866  \n",
       "2  0.098256  0.231510  0.029317 -0.740779  0.173916  1.722067  \n",
       "3  0.107554 -0.068286  0.381272 -0.649365  0.969458 -0.002535  \n",
       "4 -0.688446  1.199804  0.424744 -0.799476  0.725778  0.260288  \n",
       "\n",
       "[5 rows x 52 columns]"
      ]
     },
     "execution_count": 12,
     "metadata": {},
     "output_type": "execute_result"
    }
   ],
   "source": [
    "x.head()"
   ]
  },
  {
   "cell_type": "markdown",
   "id": "3af6be74",
   "metadata": {},
   "source": [
    "## Make PCA Model"
   ]
  },
  {
   "cell_type": "code",
   "execution_count": 13,
   "id": "4c55ac4e",
   "metadata": {},
   "outputs": [],
   "source": [
    "from sklearn.decomposition import PCA\n",
    "\n",
    "pca10 = PCA(n_components=10)"
   ]
  },
  {
   "cell_type": "code",
   "execution_count": 14,
   "id": "8148d661",
   "metadata": {},
   "outputs": [],
   "source": [
    "pcm10 = pca10.fit_transform(x)"
   ]
  },
  {
   "cell_type": "code",
   "execution_count": 16,
   "id": "b1d4afa6",
   "metadata": {},
   "outputs": [
    {
     "data": {
      "text/plain": [
       "(500, 52)"
      ]
     },
     "execution_count": 16,
     "metadata": {},
     "output_type": "execute_result"
    }
   ],
   "source": [
    "# the data before performing pca\n",
    "x.shape"
   ]
  },
  {
   "cell_type": "code",
   "execution_count": 15,
   "id": "7635165c",
   "metadata": {},
   "outputs": [
    {
     "data": {
      "text/plain": [
       "(500, 10)"
      ]
     },
     "execution_count": 15,
     "metadata": {},
     "output_type": "execute_result"
    }
   ],
   "source": [
    "# the data after performing pca\n",
    "pcm10.shape"
   ]
  },
  {
   "cell_type": "code",
   "execution_count": 39,
   "id": "3db39df0",
   "metadata": {},
   "outputs": [],
   "source": [
    "# pcm10"
   ]
  },
  {
   "cell_type": "code",
   "execution_count": 18,
   "id": "ef6bc1b9",
   "metadata": {},
   "outputs": [
    {
     "name": "stdout",
     "output_type": "stream",
     "text": [
      "pca variance with 10 PCs: \n",
      "[7.43060144 4.88692958 2.92288526 2.26757644 2.09593178 1.96805068\n",
      " 1.91908036 1.63180784 1.53257435 1.42950748]\n"
     ]
    }
   ],
   "source": [
    "print(f'pca variance with 10 PCs: \\n{pca10.explained_variance_}')"
   ]
  },
  {
   "cell_type": "code",
   "execution_count": 19,
   "id": "23eeefd6",
   "metadata": {},
   "outputs": [
    {
     "name": "stdout",
     "output_type": "stream",
     "text": [
      "pca variance ratio with 10 PCs: \n",
      "[0.14261039 0.09379146 0.05609691 0.04352002 0.04022577 0.03777143\n",
      " 0.03683158 0.03131816 0.02941364 0.02743555]\n"
     ]
    }
   ],
   "source": [
    "print(f'pca variance ratio with 10 PCs: \\n{pca10.explained_variance_ratio_}')"
   ]
  },
  {
   "cell_type": "code",
   "execution_count": 26,
   "id": "df4aba2d",
   "metadata": {},
   "outputs": [
    {
     "data": {
      "text/plain": [
       "<matplotlib.legend.Legend at 0x1a3744ba5f8>"
      ]
     },
     "execution_count": 26,
     "metadata": {},
     "output_type": "execute_result"
    },
    {
     "data": {
      "image/png": "[encoded data removed]",
      "text/plain": [
       "<Figure size 432x288 with 1 Axes>"
      ]
     },
     "metadata": {
      "needs_background": "light"
     },
     "output_type": "display_data"
    }
   ],
   "source": [
    "plt.bar(range(1, len(pca10.explained_variance_)+1), pca10.explained_variance_)\n",
    "plt.ylabel(\"Explained variance\")\n",
    "plt.xlabel(\"Principal Components\")\n",
    "plt.plot(range(1, len(pca10.explained_variance_)+1),\n",
    "         np.cumsum(pca10.explained_variance_),\n",
    "         c='red',\n",
    "         label=\"Cumulative Explained Variance\")\n",
    "plt.legend(loc=\"upper left\")"
   ]
  },
  {
   "cell_type": "markdown",
   "id": "5e877fec",
   "metadata": {},
   "source": [
    "**Scree Plot**"
   ]
  },
  {
   "cell_type": "code",
   "execution_count": 20,
   "id": "0a79f820",
   "metadata": {},
   "outputs": [
    {
     "data": {
      "text/plain": [
       "Text(0, 0.5, 'cumulative explained variance / eigenvalue')"
      ]
     },
     "execution_count": 20,
     "metadata": {},
     "output_type": "execute_result"
    },
    {
     "data": {
      "image/png": "[encoded data removed]",
      "text/plain": [
       "<Figure size 576x432 with 1 Axes>"
      ]
     },
     "metadata": {
      "needs_background": "light"
     },
     "output_type": "display_data"
    }
   ],
   "source": [
    "plt.figure(figsize=(8, 6))\n",
    "plt.plot(pca10.explained_variance_)\n",
    "plt.xlabel('number of components')\n",
    "plt.ylabel('cumulative explained variance / eigenvalue')\n",
    "# actually we can use until the 7th PCs(Principal Components)"
   ]
  },
  {
   "cell_type": "code",
   "execution_count": 36,
   "id": "69fa611c",
   "metadata": {
    "scrolled": false
   },
   "outputs": [
    {
     "data": {
      "text/plain": [
       "Text(0, 0.5, 'PC2')"
      ]
     },
     "execution_count": 36,
     "metadata": {},
     "output_type": "execute_result"
    },
    {
     "data": {
      "image/png": "[encoded data removed]",
      "text/plain": [
       "<Figure size 576x432 with 1 Axes>"
      ]
     },
     "metadata": {
      "needs_background": "light"
     },
     "output_type": "display_data"
    }
   ],
   "source": [
    "# Scattering first and the second principal component\n",
    "plt.figure(figsize=(8, 6))\n",
    "plt.scatter(pcm10[:, 0], pcm10[:, 1], alpha=0.5)\n",
    "plt.xlabel('PC1')\n",
    "plt.ylabel('PC2')"
   ]
  },
  {
   "cell_type": "code",
   "execution_count": 28,
   "id": "e6300830",
   "metadata": {},
   "outputs": [],
   "source": [
    "# pca10.components_"
   ]
  },
  {
   "cell_type": "code",
   "execution_count": 29,
   "id": "ac9e316a",
   "metadata": {},
   "outputs": [
    {
     "data": {
      "text/plain": [
       "10"
      ]
     },
     "execution_count": 29,
     "metadata": {},
     "output_type": "execute_result"
    }
   ],
   "source": [
    "pca10.n_components_"
   ]
  },
  {
   "cell_type": "code",
   "execution_count": 35,
   "id": "f90b54d6",
   "metadata": {},
   "outputs": [
    {
     "data": {
      "image/png": "[encoded data removed]",
      "text/plain": [
       "<Figure size 1008x432 with 2 Axes>"
      ]
     },
     "metadata": {
      "needs_background": "light"
     },
     "output_type": "display_data"
    }
   ],
   "source": [
    "plt.figure(figsize=(14,6))\n",
    "ax = sns.heatmap(pca10.components_,\n",
    "                 cmap='YlGnBu',\n",
    "                 yticklabels=[\"PCA\" + str(x) for x in range(1, pca10.n_components_ + 1)],\n",
    "                 xticklabels=list(x.columns),\n",
    "                 cbar_kws={\"orientation\": \"horizontal\"}\n",
    "                )\n",
    "ax.set_aspect(\"equal\")"
   ]
  },
  {
   "cell_type": "code",
   "execution_count": 24,
   "id": "3356fcde",
   "metadata": {},
   "outputs": [],
   "source": [
    "# PCA Biplot\n",
    "def myplot(score,coeff,labels=None):\n",
    "    plt.figure(figsize=(8, 6), dpi=80)\n",
    "    xs = score[:,0]\n",
    "    ys = score[:,1]\n",
    "    n = coeff.shape[0]\n",
    "    scalex = 1.0/(xs.max() - xs.min())\n",
    "    scaley = 1.0/(ys.max() - ys.min())\n",
    "    plt.scatter(xs * scalex,ys * scaley,s=5)\n",
    "    for i in range(n):\n",
    "        plt.arrow(0, 0, coeff[i,0], coeff[i,1],color = 'r',alpha = 0.5)\n",
    "        if labels is None:\n",
    "            plt.text(coeff[i,0]* 1.15, coeff[i,1] * 1.15, \"Var\"+str(i+1), color = 'green', ha = 'center', va = 'center')\n",
    "        else:\n",
    "            plt.text(coeff[i,0]* 1.15, coeff[i,1] * 1.15, labels[i], color = 'g', ha = 'center', va = 'center')\n",
    " \n",
    "    plt.xlabel(\"PC{}\".format(1))\n",
    "    plt.ylabel(\"PC{}\".format(2))\n",
    "    plt.grid()\n",
    "    \n",
    "## Biplot is actually a plot who has contain two plot which is,\n",
    "# 1.Scatter plot of PC1 and PC2 or the other name is Score Plot\n",
    "# 2.Loading plot which show how strong each caracteristic influences a principal component\n",
    "\n",
    "## Scatter plot\n",
    "# - the Scatter plot show that PCs describe variation and account for the varied influences\n",
    "#   of the original characteristics. \n",
    "\n",
    "## Loading plot\n",
    "# - the angels between the vectors tell us how characteristics correlated with one another\n",
    "# - when two vectors are close, forming a small angle, the two variables they represent are \n",
    "#   positively correlated like, B and RM\n",
    "# - when they forming an 90°, they don't have any correlation like, DIS and CRIM\n",
    "# - when they diverge and form a large angle (close to 180°), they are negative corellated \n",
    "#   like,DIS and AGE"
   ]
  },
  {
   "cell_type": "code",
   "execution_count": 25,
   "id": "6f85aeed",
   "metadata": {},
   "outputs": [
    {
     "data": {
      "image/png": "[encoded data removed]",
      "text/plain": [
       "<Figure size 640x480 with 1 Axes>"
      ]
     },
     "metadata": {
      "needs_background": "light"
     },
     "output_type": "display_data"
    }
   ],
   "source": [
    "myplot(pcm10[:,0:2],np.transpose(pca10.components_[0:2, :]),list(x.columns))"
   ]
  },
  {
   "cell_type": "code",
   "execution_count": null,
   "id": "24ee6820",
   "metadata": {},
   "outputs": [],
   "source": []
  },
  {
   "cell_type": "code",
   "execution_count": null,
   "id": "8af0f3ae",
   "metadata": {},
   "outputs": [],
   "source": []
  }
 ],
 "metadata": {
  "kernelspec": {
   "display_name": "Python 3",
   "language": "python",
   "name": "python3"
  },
  "language_info": {
   "codemirror_mode": {
    "name": "ipython",
    "version": 3
   },
   "file_extension": ".py",
   "mimetype": "text/x-python",
   "name": "python",
   "nbconvert_exporter": "python",
   "pygments_lexer": "ipython3",
   "version": "3.6.10"
  }
 },
 "nbformat": 4,
 "nbformat_minor": 5
}
