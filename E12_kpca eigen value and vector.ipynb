{
 "cells": [
  {
   "cell_type": "code",
   "execution_count": 1,
   "id": "773ee0c0",
   "metadata": {},
   "outputs": [],
   "source": [
    "import pandas as pd\n",
    "import numpy as np\n",
    "import matplotlib.pyplot as plt\n",
    "%matplotlib inline"
   ]
  },
  {
   "cell_type": "code",
   "execution_count": 2,
   "id": "6fdd6ceb",
   "metadata": {},
   "outputs": [],
   "source": [
    "from sklearn.datasets import load_boston"
   ]
  },
  {
   "cell_type": "code",
   "execution_count": 3,
   "id": "e49407b2",
   "metadata": {},
   "outputs": [
    {
     "name": "stderr",
     "output_type": "stream",
     "text": [
      "c:\\users\\m477a\\appdata\\local\\programs\\python\\python39\\lib\\site-packages\\sklearn\\utils\\deprecation.py:87: FutureWarning: Function load_boston is deprecated; `load_boston` is deprecated in 1.0 and will be removed in 1.2.\n",
      "\n",
      "    The Boston housing prices dataset has an ethical problem. You can refer to\n",
      "    the documentation of this function for further details.\n",
      "\n",
      "    The scikit-learn maintainers therefore strongly discourage the use of this\n",
      "    dataset unless the purpose of the code is to study and educate about\n",
      "    ethical issues in data science and machine learning.\n",
      "\n",
      "    In this special case, you can fetch the dataset from the original\n",
      "    source::\n",
      "\n",
      "        import pandas as pd\n",
      "        import numpy as np\n",
      "\n",
      "\n",
      "        data_url = \"http://lib.stat.cmu.edu/datasets/boston\"\n",
      "        raw_df = pd.read_csv(data_url, sep=\"\\s+\", skiprows=22, header=None)\n",
      "        data = np.hstack([raw_df.values[::2, :], raw_df.values[1::2, :2]])\n",
      "        target = raw_df.values[1::2, 2]\n",
      "\n",
      "    Alternative datasets include the California housing dataset (i.e.\n",
      "    :func:`~sklearn.datasets.fetch_california_housing`) and the Ames housing\n",
      "    dataset. You can load the datasets as follows::\n",
      "\n",
      "        from sklearn.datasets import fetch_california_housing\n",
      "        housing = fetch_california_housing()\n",
      "\n",
      "    for the California housing dataset and::\n",
      "\n",
      "        from sklearn.datasets import fetch_openml\n",
      "        housing = fetch_openml(name=\"house_prices\", as_frame=True)\n",
      "\n",
      "    for the Ames housing dataset.\n",
      "    \n",
      "  warnings.warn(msg, category=FutureWarning)\n"
     ]
    }
   ],
   "source": [
    "boston_dataset = load_boston()"
   ]
  },
  {
   "cell_type": "code",
   "execution_count": 4,
   "id": "6c221f02",
   "metadata": {},
   "outputs": [],
   "source": [
    "boston = pd.DataFrame(boston_dataset.data, columns=boston_dataset.feature_names)"
   ]
  },
  {
   "cell_type": "code",
   "execution_count": 5,
   "id": "597622ea",
   "metadata": {},
   "outputs": [],
   "source": [
    "# standardize the data\n",
    "from sklearn.preprocessing import StandardScaler\n",
    "\n",
    "x = StandardScaler().fit_transform(boston)\n",
    "x = pd.DataFrame(x, columns=boston_dataset.feature_names)"
   ]
  },
  {
   "cell_type": "code",
   "execution_count": 6,
   "id": "51f5bbc8",
   "metadata": {},
   "outputs": [],
   "source": [
    "## PCA, IPCA, KPCA\n",
    "from sklearn.decomposition import KernelPCA"
   ]
  },
  {
   "cell_type": "markdown",
   "id": "8f5cc17c",
   "metadata": {},
   "source": [
    "### kernel = linear"
   ]
  },
  {
   "cell_type": "code",
   "execution_count": 7,
   "id": "4dd74f41",
   "metadata": {},
   "outputs": [],
   "source": [
    "# kernel = linear\n",
    "kpca1 = KernelPCA(n_components=13, remove_zero_eig=True, kernel='linear')\n",
    "kpcat1 = kpca1.fit_transform(x)"
   ]
  },
  {
   "cell_type": "code",
   "execution_count": 8,
   "id": "7f9f76d9",
   "metadata": {},
   "outputs": [],
   "source": [
    "# eigen vectors kpca\n",
    "kpca1_evtr = kpca1.eigenvectors_"
   ]
  },
  {
   "cell_type": "code",
   "execution_count": 9,
   "id": "b0b64d74",
   "metadata": {},
   "outputs": [],
   "source": [
    "# eigen values kpca\n",
    "kpca1_evls = kpca1.eigenvalues_"
   ]
  },
  {
   "cell_type": "code",
   "execution_count": 10,
   "id": "f2dafa62",
   "metadata": {},
   "outputs": [
    {
     "data": {
      "text/plain": [
       "(506, 13)"
      ]
     },
     "execution_count": 10,
     "metadata": {},
     "output_type": "execute_result"
    }
   ],
   "source": [
    "kpca1_evtr.shape"
   ]
  },
  {
   "cell_type": "code",
   "execution_count": 11,
   "id": "201cf1c3",
   "metadata": {},
   "outputs": [
    {
     "data": {
      "text/plain": [
       "(13,)"
      ]
     },
     "execution_count": 11,
     "metadata": {},
     "output_type": "execute_result"
    }
   ],
   "source": [
    "kpca1_evls.shape"
   ]
  },
  {
   "cell_type": "code",
   "execution_count": 12,
   "id": "202ef931",
   "metadata": {},
   "outputs": [
    {
     "data": {
      "text/plain": [
       "array([[-0.03768541,  0.02870799,  0.01367659, ..., -0.0034015 ,\n",
       "         0.00210036,  0.06455918],\n",
       "       [-0.02617223,  0.02198218, -0.02772461, ..., -0.06605119,\n",
       "        -0.0135914 , -0.01247514],\n",
       "       [-0.03725976,  0.02226641,  0.00666482, ..., -0.0502547 ,\n",
       "         0.01440486, -0.00247349],\n",
       "       ...,\n",
       "       [-0.00560999,  0.04289776, -0.01629491, ...,  0.01192123,\n",
       "         0.03046395,  0.01102053],\n",
       "       [-0.00485852,  0.03866887, -0.02334796, ...,  0.00896877,\n",
       "         0.03259635,  0.00959102],\n",
       "       [-0.00225942,  0.02829453, -0.05164001, ...,  0.01899881,\n",
       "         0.02514495,  0.00347668]])"
      ]
     },
     "execution_count": 12,
     "metadata": {},
     "output_type": "execute_result"
    }
   ],
   "source": [
    "kpca1_evtr"
   ]
  },
  {
   "cell_type": "markdown",
   "id": "8ee9c8b0",
   "metadata": {},
   "source": [
    "### kernel = poly"
   ]
  },
  {
   "cell_type": "code",
   "execution_count": 13,
   "id": "320d7b19",
   "metadata": {},
   "outputs": [],
   "source": [
    "# kernel = poly\n",
    "kpca2 = KernelPCA(n_components=13, remove_zero_eig=True, kernel='poly')\n",
    "kpcat2 = kpca2.fit_transform(x)"
   ]
  },
  {
   "cell_type": "code",
   "execution_count": 14,
   "id": "56e82562",
   "metadata": {},
   "outputs": [],
   "source": [
    "# eigen vectors kpca\n",
    "kpca2_evtr = kpca2.eigenvectors_"
   ]
  },
  {
   "cell_type": "code",
   "execution_count": 15,
   "id": "921c497e",
   "metadata": {},
   "outputs": [],
   "source": [
    "# eigen values kpca\n",
    "kpca2_evls = kpca2.eigenvalues_"
   ]
  },
  {
   "cell_type": "code",
   "execution_count": 16,
   "id": "11ac9735",
   "metadata": {},
   "outputs": [
    {
     "data": {
      "text/plain": [
       "(506, 13)"
      ]
     },
     "execution_count": 16,
     "metadata": {},
     "output_type": "execute_result"
    }
   ],
   "source": [
    "kpca2_evtr.shape"
   ]
  },
  {
   "cell_type": "code",
   "execution_count": 17,
   "id": "3855b47f",
   "metadata": {},
   "outputs": [
    {
     "data": {
      "text/plain": [
       "(13,)"
      ]
     },
     "execution_count": 17,
     "metadata": {},
     "output_type": "execute_result"
    }
   ],
   "source": [
    "kpca2_evls.shape"
   ]
  },
  {
   "cell_type": "code",
   "execution_count": 18,
   "id": "fd733720",
   "metadata": {},
   "outputs": [
    {
     "data": {
      "text/plain": [
       "array([[-0.01548654,  0.01971785,  0.01029999, ..., -0.02072665,\n",
       "        -0.0123265 , -0.04100565],\n",
       "       [-0.01343198,  0.00875119,  0.02301762, ..., -0.0127424 ,\n",
       "         0.00887524, -0.01552852],\n",
       "       [-0.01509857,  0.01660209,  0.01645813, ...,  0.01234741,\n",
       "        -0.01080036,  0.02715904],\n",
       "       ...,\n",
       "       [-0.01087604, -0.00285792,  0.03217201, ..., -0.00337109,\n",
       "         0.05580319,  0.03898563],\n",
       "       [-0.01074445, -0.00320404,  0.03176485, ..., -0.00801938,\n",
       "         0.04997927,  0.03585072],\n",
       "       [-0.01039727, -0.00453133,  0.03168376, ..., -0.02378314,\n",
       "         0.03125155,  0.03035858]])"
      ]
     },
     "execution_count": 18,
     "metadata": {},
     "output_type": "execute_result"
    }
   ],
   "source": [
    "kpca2_evtr"
   ]
  },
  {
   "cell_type": "markdown",
   "id": "836bb447",
   "metadata": {},
   "source": [
    "### kernel = sigmoid"
   ]
  },
  {
   "cell_type": "code",
   "execution_count": 19,
   "id": "1795eca3",
   "metadata": {},
   "outputs": [],
   "source": [
    "# kernel = sigmoid\n",
    "kpca3 = KernelPCA(n_components=13, remove_zero_eig=True, kernel='sigmoid')\n",
    "kpcat3 = kpca3.fit_transform(x)"
   ]
  },
  {
   "cell_type": "code",
   "execution_count": 20,
   "id": "7054255a",
   "metadata": {},
   "outputs": [],
   "source": [
    "# eigen vectors kpca\n",
    "kpca3_evtr = kpca3.eigenvectors_"
   ]
  },
  {
   "cell_type": "code",
   "execution_count": 21,
   "id": "4b5d6212",
   "metadata": {},
   "outputs": [],
   "source": [
    "# eigen values kpca\n",
    "kpca3_evls = kpca3.eigenvalues_"
   ]
  },
  {
   "cell_type": "code",
   "execution_count": 22,
   "id": "2425544c",
   "metadata": {},
   "outputs": [
    {
     "data": {
      "text/plain": [
       "(506, 13)"
      ]
     },
     "execution_count": 22,
     "metadata": {},
     "output_type": "execute_result"
    }
   ],
   "source": [
    "kpca3_evtr.shape"
   ]
  },
  {
   "cell_type": "code",
   "execution_count": 23,
   "id": "33df649f",
   "metadata": {},
   "outputs": [
    {
     "data": {
      "text/plain": [
       "(13,)"
      ]
     },
     "execution_count": 23,
     "metadata": {},
     "output_type": "execute_result"
    }
   ],
   "source": [
    "kpca3_evls.shape"
   ]
  },
  {
   "cell_type": "code",
   "execution_count": 24,
   "id": "cb14c6c1",
   "metadata": {},
   "outputs": [
    {
     "data": {
      "text/plain": [
       "array([[-0.03970687,  0.03161174,  0.04726238, ...,  0.03666908,\n",
       "        -0.07782892,  0.05501544],\n",
       "       [-0.02702175, -0.0020052 ,  0.02839983, ..., -0.04201387,\n",
       "        -0.01351592,  0.01720977],\n",
       "       [-0.04059063,  0.03339362, -0.01554216, ..., -0.02686872,\n",
       "        -0.03682709,  0.00402737],\n",
       "       ...,\n",
       "       [-0.00358344,  0.03143545, -0.02668261, ...,  0.05280845,\n",
       "        -0.01056535,  0.04800545],\n",
       "       [-0.00266147,  0.02157265, -0.02113996, ...,  0.05331658,\n",
       "        -0.00350654,  0.05001724],\n",
       "       [ 0.00045   , -0.01370801,  0.00014444, ...,  0.04940868,\n",
       "        -0.00363503,  0.03156971]])"
      ]
     },
     "execution_count": 24,
     "metadata": {},
     "output_type": "execute_result"
    }
   ],
   "source": [
    "kpca3_evtr"
   ]
  },
  {
   "cell_type": "markdown",
   "id": "6b95894f",
   "metadata": {},
   "source": [
    "#### Dual_coef_"
   ]
  },
  {
   "cell_type": "code",
   "execution_count": 25,
   "id": "dd363a1e",
   "metadata": {},
   "outputs": [],
   "source": [
    "kpca4 = KernelPCA(n_components=10, remove_zero_eig=True, kernel='linear', fit_inverse_transform=True)\n",
    "kpcat4 = kpca4.fit_transform(x)"
   ]
  },
  {
   "cell_type": "code",
   "execution_count": 26,
   "id": "8ee6a7b6",
   "metadata": {},
   "outputs": [
    {
     "data": {
      "text/plain": [
       "(506, 10)"
      ]
     },
     "execution_count": 26,
     "metadata": {},
     "output_type": "execute_result"
    }
   ],
   "source": [
    "kpcat4.shape"
   ]
  },
  {
   "cell_type": "code",
   "execution_count": 27,
   "id": "80623636",
   "metadata": {},
   "outputs": [
    {
     "data": {
      "text/plain": [
       "array([[ 0.0223771 , -0.03979026, -0.08833088, ...,  0.0044608 ,\n",
       "        -0.00150114, -0.0024264 ],\n",
       "       [ 0.05628909, -0.15502382,  0.2242211 , ..., -0.13949362,\n",
       "        -0.01719918, -0.18236409],\n",
       "       [ 0.06500057, -0.13882699,  0.13637031, ..., -0.05704646,\n",
       "        -0.0038664 , -0.12589288],\n",
       "       ...,\n",
       "       [ 0.01550377,  0.00749192, -0.08096722, ...,  0.08610232,\n",
       "         0.0134535 ,  0.04375469],\n",
       "       [ 0.01990861, -0.00086686, -0.07263239, ...,  0.08486057,\n",
       "         0.01366896,  0.03704865],\n",
       "       [ 0.0016806 ,  0.0323447 , -0.08621776, ...,  0.0859891 ,\n",
       "         0.0127695 ,  0.0576299 ]])"
      ]
     },
     "execution_count": 27,
     "metadata": {},
     "output_type": "execute_result"
    }
   ],
   "source": [
    "kpca4.dual_coef_"
   ]
  },
  {
   "cell_type": "code",
   "execution_count": 28,
   "id": "7b023e1d",
   "metadata": {},
   "outputs": [
    {
     "data": {
      "text/plain": [
       "(506, 13)"
      ]
     },
     "execution_count": 28,
     "metadata": {},
     "output_type": "execute_result"
    }
   ],
   "source": [
    "kpca4.dual_coef_.shape"
   ]
  },
  {
   "cell_type": "markdown",
   "id": "aef574bd",
   "metadata": {},
   "source": [
    "## Eigen Solver"
   ]
  },
  {
   "cell_type": "code",
   "execution_count": 29,
   "id": "ea45c59a",
   "metadata": {},
   "outputs": [],
   "source": [
    "# Auto\n",
    "KpcaESau = KernelPCA(n_components=10, \n",
    "                   remove_zero_eig=True, \n",
    "                   kernel='linear', \n",
    "                   fit_inverse_transform=True,\n",
    "                   eigen_solver='auto'\n",
    "                   )\n",
    "KpcaESaut = KpcaESau.fit_transform(x)"
   ]
  },
  {
   "cell_type": "code",
   "execution_count": 30,
   "id": "02df9b44",
   "metadata": {},
   "outputs": [],
   "source": [
    "# eigen vectors kpca\n",
    "KpcaESau_evtr = KpcaESau.eigenvectors_"
   ]
  },
  {
   "cell_type": "code",
   "execution_count": 31,
   "id": "b08a4f86",
   "metadata": {},
   "outputs": [],
   "source": [
    "# eigen values kpca\n",
    "KpcaESau_evls = KpcaESau.eigenvalues_"
   ]
  },
  {
   "cell_type": "code",
   "execution_count": 32,
   "id": "a121a16d",
   "metadata": {},
   "outputs": [
    {
     "data": {
      "text/plain": [
       "(506, 10)"
      ]
     },
     "execution_count": 32,
     "metadata": {},
     "output_type": "execute_result"
    }
   ],
   "source": [
    "KpcaESau_evtr.shape"
   ]
  },
  {
   "cell_type": "code",
   "execution_count": 34,
   "id": "13a623a4",
   "metadata": {},
   "outputs": [
    {
     "data": {
      "text/plain": [
       "(10,)"
      ]
     },
     "execution_count": 34,
     "metadata": {},
     "output_type": "execute_result"
    }
   ],
   "source": [
    "KpcaESau_evls.shape"
   ]
  },
  {
   "cell_type": "code",
   "execution_count": 37,
   "id": "4eedd6af",
   "metadata": {},
   "outputs": [],
   "source": [
    "# Dense\n",
    "KpcaESde = KernelPCA(n_components=10, \n",
    "                   remove_zero_eig=True, \n",
    "                   kernel='linear', \n",
    "                   fit_inverse_transform=True,\n",
    "                   eigen_solver='dense'\n",
    "                   )\n",
    "KpcaESdet = KpcaESde.fit_transform(x)"
   ]
  },
  {
   "cell_type": "code",
   "execution_count": 38,
   "id": "8a71a4cb",
   "metadata": {},
   "outputs": [],
   "source": [
    "# eigen vectors kpca\n",
    "KpcaESde_evtr = KpcaESde.eigenvectors_"
   ]
  },
  {
   "cell_type": "code",
   "execution_count": 39,
   "id": "423f392a",
   "metadata": {},
   "outputs": [],
   "source": [
    "# eigen values kpca\n",
    "KpcaESde_evls = KpcaESde.eigenvalues_"
   ]
  },
  {
   "cell_type": "code",
   "execution_count": 40,
   "id": "c86e67dd",
   "metadata": {},
   "outputs": [
    {
     "data": {
      "text/plain": [
       "(506, 10)"
      ]
     },
     "execution_count": 40,
     "metadata": {},
     "output_type": "execute_result"
    }
   ],
   "source": [
    "KpcaESde_evtr.shape"
   ]
  },
  {
   "cell_type": "code",
   "execution_count": 41,
   "id": "68966e55",
   "metadata": {},
   "outputs": [
    {
     "data": {
      "text/plain": [
       "(10,)"
      ]
     },
     "execution_count": 41,
     "metadata": {},
     "output_type": "execute_result"
    }
   ],
   "source": [
    "KpcaESde_evls.shape"
   ]
  }
 ],
 "metadata": {
  "kernelspec": {
   "display_name": "Python 3 (ipykernel)",
   "language": "python",
   "name": "python3"
  },
  "language_info": {
   "codemirror_mode": {
    "name": "ipython",
    "version": 3
   },
   "file_extension": ".py",
   "mimetype": "text/x-python",
   "name": "python",
   "nbconvert_exporter": "python",
   "pygments_lexer": "ipython3",
   "version": "3.9.6"
  }
 },
 "nbformat": 4,
 "nbformat_minor": 5
}
